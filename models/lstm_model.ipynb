{
  "cells": [
    {
      "cell_type": "code",
      "source": [
        "COLAB = True"
      ],
      "metadata": {
        "id": "-v3U6vh5KgL7"
      },
      "id": "-v3U6vh5KgL7",
      "execution_count": 131,
      "outputs": []
    },
    {
      "cell_type": "code",
      "execution_count": 132,
      "id": "43b75ebf",
      "metadata": {
        "id": "43b75ebf"
      },
      "outputs": [],
      "source": [
        "import torch\n",
        "import torch.nn as nn\n",
        "import pandas as pd\n",
        "import numpy as np\n",
        "import spacy\n",
        "from sklearn import preprocessing\n",
        "from sklearn.model_selection import train_test_split\n",
        "from torch.utils.data import Dataset, DataLoader\n",
        "import torch.nn.functional as F\n",
        "from torch.nn.utils.rnn import pack_padded_sequence, pad_packed_sequence\n",
        "from collections import Counter\n",
        "from google.colab import drive\n",
        "import os"
      ]
    },
    {
      "cell_type": "code",
      "execution_count": 133,
      "id": "db39ad19",
      "metadata": {
        "id": "db39ad19"
      },
      "outputs": [],
      "source": [
        "RANDOM_STATE = 30255\n",
        "BATCH_SIZE = 32\n",
        "MAX_LENGTH = 512\n",
        "NUM_EPOCHS = 30\n",
        "LEARNING_RATE = 0.001"
      ]
    },
    {
      "cell_type": "code",
      "execution_count": 134,
      "id": "51a9a11f",
      "metadata": {
        "id": "51a9a11f"
      },
      "outputs": [],
      "source": [
        "# df = pd.read_csv('../data/preprocessed_data.csv')\n",
        "# df = df[['CLASS', 'SPACY_PREPROCESSED']]\n",
        "# df = df.dropna()\n",
        "# # df['PREPROCESSED'] = df['PREPROCESSED'].str.replace(r'<[^<>]*>', '', regex=True) # drop HTML tags\n",
        "\n",
        "\n",
        "# from sklearn import preprocessing\n",
        "\n",
        "# le = preprocessing.LabelEncoder()\n",
        "# le.fit(df['CLASS'])\n",
        "# df['LABEL'] = le.transform(df['CLASS'])\n",
        "\n",
        "# display(df['CLASS'].value_counts())\n",
        "\n",
        "# # shuffle\n",
        "# df = df.sample(frac=1, random_state=RANDOM_STATE).reset_index()\n",
        "# df = df[['LABEL', 'SPACY_PREPROCESSED']]\n",
        "\n",
        "# display(df['LABEL'].value_counts(dropna=False))\n",
        "\n",
        "# display(df.head())"
      ]
    },
    {
      "cell_type": "code",
      "execution_count": 135,
      "id": "05a88391",
      "metadata": {
        "colab": {
          "base_uri": "https://localhost:8080/",
          "height": 355
        },
        "id": "05a88391",
        "outputId": "26510d58-249c-41b4-f7fd-b0aca4067626"
      },
      "outputs": [
        {
          "output_type": "stream",
          "name": "stdout",
          "text": [
            "Drive already mounted at /content/gdrive; to attempt to forcibly remount, call drive.mount(\"/content/gdrive\", force_remount=True).\n"
          ]
        },
        {
          "output_type": "execute_result",
          "data": {
            "text/plain": [
              "                                         DESCRIPTION  \\\n",
              "0  The United States Department of Energy Vehicle...   \n",
              "1  Solar reflective “cool pavements” have been pr...   \n",
              "2  Inconel 718 alloy is used extensively in aerog...   \n",
              "3  The Production Tax Credit (PTC) and the Invest...   \n",
              "4  The production tax credit (PTC) promotes wind ...   \n",
              "\n",
              "                                             SUBJECT  \\\n",
              "0  ['33 Advanced Propulsion Systems', '36 Materia...   \n",
              "1  ['32 Energy Conservation, Consumption, And Uti...   \n",
              "2  ['36 Materials Science', '33 Advanced Propulsi...   \n",
              "3  ['29 Energy Planning, Policy, And Economy', 'P...   \n",
              "4  ['29 Energy Planning, Policy, And Economy', '1...   \n",
              "\n",
              "                                        MAIN_SUBJECT  \\\n",
              "0                     33 Advanced Propulsion Systems   \n",
              "1  32 Energy Conservation, Consumption, And Utili...   \n",
              "2                     33 Advanced Propulsion Systems   \n",
              "3            29 Energy Planning, Policy, And Economy   \n",
              "4            29 Energy Planning, Policy, And Economy   \n",
              "\n",
              "                                         CLASS  \\\n",
              "0  Energy Storage, Conversion, and Utilization   \n",
              "1  Energy Storage, Conversion, and Utilization   \n",
              "2  Energy Storage, Conversion, and Utilization   \n",
              "3  Energy Storage, Conversion, and Utilization   \n",
              "4  Energy Storage, Conversion, and Utilization   \n",
              "\n",
              "                                      BERT_TOKENIZED  \\\n",
              "0  {'input_ids': tensor([[  101,  1996,  2142,  2...   \n",
              "1  {'input_ids': tensor([[  101,  5943, 21346,  1...   \n",
              "2  {'input_ids': tensor([[  101,  4297,  5643,  2...   \n",
              "3  {'input_ids': tensor([[  101,  1996,  2537,  4...   \n",
              "4  {'input_ids': tensor([[  101,  1996,  2537,  4...   \n",
              "\n",
              "                                  SPACY_PREPROCESSED  LABEL  \n",
              "0  united states department energy vehicle techno...      0  \n",
              "1  solar reflective cool pavement propose potenti...      0  \n",
              "2  inconel alloy extensively aerogas turbine allo...      0  \n",
              "3  production tax credit ptc investment tax credi...      0  \n",
              "4  production tax credit ptc promote wind energy ...      0  "
            ],
            "text/html": [
              "\n",
              "  <div id=\"df-db61ca84-27d2-4c4c-80bc-8b580f4778b7\">\n",
              "    <div class=\"colab-df-container\">\n",
              "      <div>\n",
              "<style scoped>\n",
              "    .dataframe tbody tr th:only-of-type {\n",
              "        vertical-align: middle;\n",
              "    }\n",
              "\n",
              "    .dataframe tbody tr th {\n",
              "        vertical-align: top;\n",
              "    }\n",
              "\n",
              "    .dataframe thead th {\n",
              "        text-align: right;\n",
              "    }\n",
              "</style>\n",
              "<table border=\"1\" class=\"dataframe\">\n",
              "  <thead>\n",
              "    <tr style=\"text-align: right;\">\n",
              "      <th></th>\n",
              "      <th>DESCRIPTION</th>\n",
              "      <th>SUBJECT</th>\n",
              "      <th>MAIN_SUBJECT</th>\n",
              "      <th>CLASS</th>\n",
              "      <th>BERT_TOKENIZED</th>\n",
              "      <th>SPACY_PREPROCESSED</th>\n",
              "      <th>LABEL</th>\n",
              "    </tr>\n",
              "  </thead>\n",
              "  <tbody>\n",
              "    <tr>\n",
              "      <th>0</th>\n",
              "      <td>The United States Department of Energy Vehicle...</td>\n",
              "      <td>['33 Advanced Propulsion Systems', '36 Materia...</td>\n",
              "      <td>33 Advanced Propulsion Systems</td>\n",
              "      <td>Energy Storage, Conversion, and Utilization</td>\n",
              "      <td>{'input_ids': tensor([[  101,  1996,  2142,  2...</td>\n",
              "      <td>united states department energy vehicle techno...</td>\n",
              "      <td>0</td>\n",
              "    </tr>\n",
              "    <tr>\n",
              "      <th>1</th>\n",
              "      <td>Solar reflective “cool pavements” have been pr...</td>\n",
              "      <td>['32 Energy Conservation, Consumption, And Uti...</td>\n",
              "      <td>32 Energy Conservation, Consumption, And Utili...</td>\n",
              "      <td>Energy Storage, Conversion, and Utilization</td>\n",
              "      <td>{'input_ids': tensor([[  101,  5943, 21346,  1...</td>\n",
              "      <td>solar reflective cool pavement propose potenti...</td>\n",
              "      <td>0</td>\n",
              "    </tr>\n",
              "    <tr>\n",
              "      <th>2</th>\n",
              "      <td>Inconel 718 alloy is used extensively in aerog...</td>\n",
              "      <td>['36 Materials Science', '33 Advanced Propulsi...</td>\n",
              "      <td>33 Advanced Propulsion Systems</td>\n",
              "      <td>Energy Storage, Conversion, and Utilization</td>\n",
              "      <td>{'input_ids': tensor([[  101,  4297,  5643,  2...</td>\n",
              "      <td>inconel alloy extensively aerogas turbine allo...</td>\n",
              "      <td>0</td>\n",
              "    </tr>\n",
              "    <tr>\n",
              "      <th>3</th>\n",
              "      <td>The Production Tax Credit (PTC) and the Invest...</td>\n",
              "      <td>['29 Energy Planning, Policy, And Economy', 'P...</td>\n",
              "      <td>29 Energy Planning, Policy, And Economy</td>\n",
              "      <td>Energy Storage, Conversion, and Utilization</td>\n",
              "      <td>{'input_ids': tensor([[  101,  1996,  2537,  4...</td>\n",
              "      <td>production tax credit ptc investment tax credi...</td>\n",
              "      <td>0</td>\n",
              "    </tr>\n",
              "    <tr>\n",
              "      <th>4</th>\n",
              "      <td>The production tax credit (PTC) promotes wind ...</td>\n",
              "      <td>['29 Energy Planning, Policy, And Economy', '1...</td>\n",
              "      <td>29 Energy Planning, Policy, And Economy</td>\n",
              "      <td>Energy Storage, Conversion, and Utilization</td>\n",
              "      <td>{'input_ids': tensor([[  101,  1996,  2537,  4...</td>\n",
              "      <td>production tax credit ptc promote wind energy ...</td>\n",
              "      <td>0</td>\n",
              "    </tr>\n",
              "  </tbody>\n",
              "</table>\n",
              "</div>\n",
              "      <button class=\"colab-df-convert\" onclick=\"convertToInteractive('df-db61ca84-27d2-4c4c-80bc-8b580f4778b7')\"\n",
              "              title=\"Convert this dataframe to an interactive table.\"\n",
              "              style=\"display:none;\">\n",
              "        \n",
              "  <svg xmlns=\"http://www.w3.org/2000/svg\" height=\"24px\"viewBox=\"0 0 24 24\"\n",
              "       width=\"24px\">\n",
              "    <path d=\"M0 0h24v24H0V0z\" fill=\"none\"/>\n",
              "    <path d=\"M18.56 5.44l.94 2.06.94-2.06 2.06-.94-2.06-.94-.94-2.06-.94 2.06-2.06.94zm-11 1L8.5 8.5l.94-2.06 2.06-.94-2.06-.94L8.5 2.5l-.94 2.06-2.06.94zm10 10l.94 2.06.94-2.06 2.06-.94-2.06-.94-.94-2.06-.94 2.06-2.06.94z\"/><path d=\"M17.41 7.96l-1.37-1.37c-.4-.4-.92-.59-1.43-.59-.52 0-1.04.2-1.43.59L10.3 9.45l-7.72 7.72c-.78.78-.78 2.05 0 2.83L4 21.41c.39.39.9.59 1.41.59.51 0 1.02-.2 1.41-.59l7.78-7.78 2.81-2.81c.8-.78.8-2.07 0-2.86zM5.41 20L4 18.59l7.72-7.72 1.47 1.35L5.41 20z\"/>\n",
              "  </svg>\n",
              "      </button>\n",
              "      \n",
              "  <style>\n",
              "    .colab-df-container {\n",
              "      display:flex;\n",
              "      flex-wrap:wrap;\n",
              "      gap: 12px;\n",
              "    }\n",
              "\n",
              "    .colab-df-convert {\n",
              "      background-color: #E8F0FE;\n",
              "      border: none;\n",
              "      border-radius: 50%;\n",
              "      cursor: pointer;\n",
              "      display: none;\n",
              "      fill: #1967D2;\n",
              "      height: 32px;\n",
              "      padding: 0 0 0 0;\n",
              "      width: 32px;\n",
              "    }\n",
              "\n",
              "    .colab-df-convert:hover {\n",
              "      background-color: #E2EBFA;\n",
              "      box-shadow: 0px 1px 2px rgba(60, 64, 67, 0.3), 0px 1px 3px 1px rgba(60, 64, 67, 0.15);\n",
              "      fill: #174EA6;\n",
              "    }\n",
              "\n",
              "    [theme=dark] .colab-df-convert {\n",
              "      background-color: #3B4455;\n",
              "      fill: #D2E3FC;\n",
              "    }\n",
              "\n",
              "    [theme=dark] .colab-df-convert:hover {\n",
              "      background-color: #434B5C;\n",
              "      box-shadow: 0px 1px 3px 1px rgba(0, 0, 0, 0.15);\n",
              "      filter: drop-shadow(0px 1px 2px rgba(0, 0, 0, 0.3));\n",
              "      fill: #FFFFFF;\n",
              "    }\n",
              "  </style>\n",
              "\n",
              "      <script>\n",
              "        const buttonEl =\n",
              "          document.querySelector('#df-db61ca84-27d2-4c4c-80bc-8b580f4778b7 button.colab-df-convert');\n",
              "        buttonEl.style.display =\n",
              "          google.colab.kernel.accessAllowed ? 'block' : 'none';\n",
              "\n",
              "        async function convertToInteractive(key) {\n",
              "          const element = document.querySelector('#df-db61ca84-27d2-4c4c-80bc-8b580f4778b7');\n",
              "          const dataTable =\n",
              "            await google.colab.kernel.invokeFunction('convertToInteractive',\n",
              "                                                     [key], {});\n",
              "          if (!dataTable) return;\n",
              "\n",
              "          const docLinkHtml = 'Like what you see? Visit the ' +\n",
              "            '<a target=\"_blank\" href=https://colab.research.google.com/notebooks/data_table.ipynb>data table notebook</a>'\n",
              "            + ' to learn more about interactive tables.';\n",
              "          element.innerHTML = '';\n",
              "          dataTable['output_type'] = 'display_data';\n",
              "          await google.colab.output.renderOutput(dataTable, element);\n",
              "          const docLink = document.createElement('div');\n",
              "          docLink.innerHTML = docLinkHtml;\n",
              "          element.appendChild(docLink);\n",
              "        }\n",
              "      </script>\n",
              "    </div>\n",
              "  </div>\n",
              "  "
            ]
          },
          "metadata": {},
          "execution_count": 135
        }
      ],
      "source": [
        "if COLAB:\n",
        "  drive.mount('/content/gdrive')\n",
        "  PATH = \"gdrive/Shareddrives/Adv ML Project/Data/\"\n",
        "  df = pd.read_csv(os.path.join(PATH + \"preprocessed_data.csv\"))\n",
        "\n",
        "else:\n",
        "  df = pd.read_csv('../data/preprocessed_data.csv')\n",
        "  df = df.sample(n=100, random_state=RANDOM_STATE).reset_index()\n",
        "\n",
        "\n",
        "le = preprocessing.LabelEncoder()\n",
        "le.fit(df['CLASS'])\n",
        "df['LABEL'] = le.transform(df['CLASS'])\n",
        "\n",
        "df.head()"
      ]
    },
    {
      "cell_type": "code",
      "source": [
        "display(df[['CLASS', 'LABEL']].drop_duplicates())"
      ],
      "metadata": {
        "colab": {
          "base_uri": "https://localhost:8080/",
          "height": 206
        },
        "id": "n-HuyuDleBv6",
        "outputId": "720856af-5d93-4300-9c00-7b2d657febad"
      },
      "id": "n-HuyuDleBv6",
      "execution_count": 136,
      "outputs": [
        {
          "output_type": "display_data",
          "data": {
            "text/plain": [
              "                                            CLASS  LABEL\n",
              "0     Energy Storage, Conversion, and Utilization      0\n",
              "1223                       Environmental Sciences      1\n",
              "2446             Fission and Nuclear Technologies      2\n",
              "3669                                 Fossil Fuels      3\n",
              "4892                     Renewable Energy Sources      4"
            ],
            "text/html": [
              "\n",
              "  <div id=\"df-8e56df52-e598-4b3d-90e9-837fb238be90\">\n",
              "    <div class=\"colab-df-container\">\n",
              "      <div>\n",
              "<style scoped>\n",
              "    .dataframe tbody tr th:only-of-type {\n",
              "        vertical-align: middle;\n",
              "    }\n",
              "\n",
              "    .dataframe tbody tr th {\n",
              "        vertical-align: top;\n",
              "    }\n",
              "\n",
              "    .dataframe thead th {\n",
              "        text-align: right;\n",
              "    }\n",
              "</style>\n",
              "<table border=\"1\" class=\"dataframe\">\n",
              "  <thead>\n",
              "    <tr style=\"text-align: right;\">\n",
              "      <th></th>\n",
              "      <th>CLASS</th>\n",
              "      <th>LABEL</th>\n",
              "    </tr>\n",
              "  </thead>\n",
              "  <tbody>\n",
              "    <tr>\n",
              "      <th>0</th>\n",
              "      <td>Energy Storage, Conversion, and Utilization</td>\n",
              "      <td>0</td>\n",
              "    </tr>\n",
              "    <tr>\n",
              "      <th>1223</th>\n",
              "      <td>Environmental Sciences</td>\n",
              "      <td>1</td>\n",
              "    </tr>\n",
              "    <tr>\n",
              "      <th>2446</th>\n",
              "      <td>Fission and Nuclear Technologies</td>\n",
              "      <td>2</td>\n",
              "    </tr>\n",
              "    <tr>\n",
              "      <th>3669</th>\n",
              "      <td>Fossil Fuels</td>\n",
              "      <td>3</td>\n",
              "    </tr>\n",
              "    <tr>\n",
              "      <th>4892</th>\n",
              "      <td>Renewable Energy Sources</td>\n",
              "      <td>4</td>\n",
              "    </tr>\n",
              "  </tbody>\n",
              "</table>\n",
              "</div>\n",
              "      <button class=\"colab-df-convert\" onclick=\"convertToInteractive('df-8e56df52-e598-4b3d-90e9-837fb238be90')\"\n",
              "              title=\"Convert this dataframe to an interactive table.\"\n",
              "              style=\"display:none;\">\n",
              "        \n",
              "  <svg xmlns=\"http://www.w3.org/2000/svg\" height=\"24px\"viewBox=\"0 0 24 24\"\n",
              "       width=\"24px\">\n",
              "    <path d=\"M0 0h24v24H0V0z\" fill=\"none\"/>\n",
              "    <path d=\"M18.56 5.44l.94 2.06.94-2.06 2.06-.94-2.06-.94-.94-2.06-.94 2.06-2.06.94zm-11 1L8.5 8.5l.94-2.06 2.06-.94-2.06-.94L8.5 2.5l-.94 2.06-2.06.94zm10 10l.94 2.06.94-2.06 2.06-.94-2.06-.94-.94-2.06-.94 2.06-2.06.94z\"/><path d=\"M17.41 7.96l-1.37-1.37c-.4-.4-.92-.59-1.43-.59-.52 0-1.04.2-1.43.59L10.3 9.45l-7.72 7.72c-.78.78-.78 2.05 0 2.83L4 21.41c.39.39.9.59 1.41.59.51 0 1.02-.2 1.41-.59l7.78-7.78 2.81-2.81c.8-.78.8-2.07 0-2.86zM5.41 20L4 18.59l7.72-7.72 1.47 1.35L5.41 20z\"/>\n",
              "  </svg>\n",
              "      </button>\n",
              "      \n",
              "  <style>\n",
              "    .colab-df-container {\n",
              "      display:flex;\n",
              "      flex-wrap:wrap;\n",
              "      gap: 12px;\n",
              "    }\n",
              "\n",
              "    .colab-df-convert {\n",
              "      background-color: #E8F0FE;\n",
              "      border: none;\n",
              "      border-radius: 50%;\n",
              "      cursor: pointer;\n",
              "      display: none;\n",
              "      fill: #1967D2;\n",
              "      height: 32px;\n",
              "      padding: 0 0 0 0;\n",
              "      width: 32px;\n",
              "    }\n",
              "\n",
              "    .colab-df-convert:hover {\n",
              "      background-color: #E2EBFA;\n",
              "      box-shadow: 0px 1px 2px rgba(60, 64, 67, 0.3), 0px 1px 3px 1px rgba(60, 64, 67, 0.15);\n",
              "      fill: #174EA6;\n",
              "    }\n",
              "\n",
              "    [theme=dark] .colab-df-convert {\n",
              "      background-color: #3B4455;\n",
              "      fill: #D2E3FC;\n",
              "    }\n",
              "\n",
              "    [theme=dark] .colab-df-convert:hover {\n",
              "      background-color: #434B5C;\n",
              "      box-shadow: 0px 1px 3px 1px rgba(0, 0, 0, 0.15);\n",
              "      filter: drop-shadow(0px 1px 2px rgba(0, 0, 0, 0.3));\n",
              "      fill: #FFFFFF;\n",
              "    }\n",
              "  </style>\n",
              "\n",
              "      <script>\n",
              "        const buttonEl =\n",
              "          document.querySelector('#df-8e56df52-e598-4b3d-90e9-837fb238be90 button.colab-df-convert');\n",
              "        buttonEl.style.display =\n",
              "          google.colab.kernel.accessAllowed ? 'block' : 'none';\n",
              "\n",
              "        async function convertToInteractive(key) {\n",
              "          const element = document.querySelector('#df-8e56df52-e598-4b3d-90e9-837fb238be90');\n",
              "          const dataTable =\n",
              "            await google.colab.kernel.invokeFunction('convertToInteractive',\n",
              "                                                     [key], {});\n",
              "          if (!dataTable) return;\n",
              "\n",
              "          const docLinkHtml = 'Like what you see? Visit the ' +\n",
              "            '<a target=\"_blank\" href=https://colab.research.google.com/notebooks/data_table.ipynb>data table notebook</a>'\n",
              "            + ' to learn more about interactive tables.';\n",
              "          element.innerHTML = '';\n",
              "          dataTable['output_type'] = 'display_data';\n",
              "          await google.colab.output.renderOutput(dataTable, element);\n",
              "          const docLink = document.createElement('div');\n",
              "          docLink.innerHTML = docLinkHtml;\n",
              "          element.appendChild(docLink);\n",
              "        }\n",
              "      </script>\n",
              "    </div>\n",
              "  </div>\n",
              "  "
            ]
          },
          "metadata": {}
        }
      ]
    },
    {
      "cell_type": "code",
      "execution_count": 137,
      "id": "d1279f39",
      "metadata": {
        "id": "d1279f39"
      },
      "outputs": [],
      "source": [
        "tok = spacy.load('en_core_web_sm')"
      ]
    },
    {
      "cell_type": "code",
      "execution_count": 138,
      "id": "65d75f5a",
      "metadata": {
        "id": "65d75f5a"
      },
      "outputs": [],
      "source": [
        "def tokenize (text):\n",
        "    return [token.text for token in tok.tokenizer(text)]"
      ]
    },
    {
      "cell_type": "code",
      "execution_count": 139,
      "id": "1ac19b8a",
      "metadata": {
        "id": "1ac19b8a"
      },
      "outputs": [],
      "source": [
        "#count number of occurences of each word\n",
        "counts = Counter()\n",
        "for index, row in df.iterrows():\n",
        "    counts.update(tokenize(row['SPACY_PREPROCESSED']))"
      ]
    },
    {
      "cell_type": "code",
      "execution_count": 140,
      "id": "d7e6bddb",
      "metadata": {
        "colab": {
          "base_uri": "https://localhost:8080/"
        },
        "id": "d7e6bddb",
        "outputId": "508e92a4-7638-4735-bf8f-caaa7439163a"
      },
      "outputs": [
        {
          "output_type": "stream",
          "name": "stdout",
          "text": [
            "num_words before: 30719\n",
            "num_words after: 17571\n"
          ]
        }
      ],
      "source": [
        "#deleting infrequent words\n",
        "print(\"num_words before:\",len(counts.keys()))\n",
        "for word in list(counts):\n",
        "    if counts[word] < 2:\n",
        "        del counts[word]\n",
        "print(\"num_words after:\",len(counts.keys()))"
      ]
    },
    {
      "cell_type": "code",
      "execution_count": 141,
      "id": "34e8895c",
      "metadata": {
        "id": "34e8895c"
      },
      "outputs": [],
      "source": [
        "#creating vocabulary\n",
        "vocab2index = {\"\":0, \"UNK\":1}\n",
        "words = [\"\", \"UNK\"]\n",
        "for word in counts:\n",
        "    vocab2index[word] = len(words)\n",
        "    words.append(word)"
      ]
    },
    {
      "cell_type": "code",
      "execution_count": 142,
      "id": "a9931559",
      "metadata": {
        "id": "a9931559"
      },
      "outputs": [],
      "source": [
        "# encode from scratch\n",
        "def encode_sentence(text, vocab2index, N=MAX_LENGTH):\n",
        "    tokenized = tokenize(text)\n",
        "    encoded = np.zeros(N, dtype=int)\n",
        "    enc1 = np.array([vocab2index.get(word, vocab2index[\"UNK\"]) for word in tokenized])\n",
        "    length = min(N, len(enc1))\n",
        "    encoded[:length] = enc1[:length]\n",
        "    return encoded, length"
      ]
    },
    {
      "cell_type": "code",
      "execution_count": 143,
      "id": "7fe6c03b",
      "metadata": {
        "colab": {
          "base_uri": "https://localhost:8080/",
          "height": 337
        },
        "id": "7fe6c03b",
        "outputId": "0da24a59-f722-49be-9d27-23168fda6e6f"
      },
      "outputs": [
        {
          "output_type": "execute_result",
          "data": {
            "text/plain": [
              "                                         DESCRIPTION  \\\n",
              "0  The United States Department of Energy Vehicle...   \n",
              "1  Solar reflective “cool pavements” have been pr...   \n",
              "2  Inconel 718 alloy is used extensively in aerog...   \n",
              "3  The Production Tax Credit (PTC) and the Invest...   \n",
              "4  The production tax credit (PTC) promotes wind ...   \n",
              "\n",
              "                                             SUBJECT  \\\n",
              "0  ['33 Advanced Propulsion Systems', '36 Materia...   \n",
              "1  ['32 Energy Conservation, Consumption, And Uti...   \n",
              "2  ['36 Materials Science', '33 Advanced Propulsi...   \n",
              "3  ['29 Energy Planning, Policy, And Economy', 'P...   \n",
              "4  ['29 Energy Planning, Policy, And Economy', '1...   \n",
              "\n",
              "                                        MAIN_SUBJECT  \\\n",
              "0                     33 Advanced Propulsion Systems   \n",
              "1  32 Energy Conservation, Consumption, And Utili...   \n",
              "2                     33 Advanced Propulsion Systems   \n",
              "3            29 Energy Planning, Policy, And Economy   \n",
              "4            29 Energy Planning, Policy, And Economy   \n",
              "\n",
              "                                         CLASS  \\\n",
              "0  Energy Storage, Conversion, and Utilization   \n",
              "1  Energy Storage, Conversion, and Utilization   \n",
              "2  Energy Storage, Conversion, and Utilization   \n",
              "3  Energy Storage, Conversion, and Utilization   \n",
              "4  Energy Storage, Conversion, and Utilization   \n",
              "\n",
              "                                      BERT_TOKENIZED  \\\n",
              "0  {'input_ids': tensor([[  101,  1996,  2142,  2...   \n",
              "1  {'input_ids': tensor([[  101,  5943, 21346,  1...   \n",
              "2  {'input_ids': tensor([[  101,  4297,  5643,  2...   \n",
              "3  {'input_ids': tensor([[  101,  1996,  2537,  4...   \n",
              "4  {'input_ids': tensor([[  101,  1996,  2537,  4...   \n",
              "\n",
              "                                  SPACY_PREPROCESSED  LABEL  \\\n",
              "0  united states department energy vehicle techno...      0   \n",
              "1  solar reflective cool pavement propose potenti...      0   \n",
              "2  inconel alloy extensively aerogas turbine allo...      0   \n",
              "3  production tax credit ptc investment tax credi...      0   \n",
              "4  production tax credit ptc promote wind energy ...      0   \n",
              "\n",
              "                                             encoded  \n",
              "0  [[2, 3, 4, 5, 6, 7, 8, 9, 10, 11, 12, 13, 14, ...  \n",
              "1  [[87, 88, 89, 90, 91, 92, 93, 94, 95, 96, 97, ...  \n",
              "2  [[179, 180, 181, 1, 182, 180, 183, 184, 185, 1...  \n",
              "3  [[56, 248, 249, 250, 251, 248, 249, 252, 253, ...  \n",
              "4  [[56, 248, 249, 250, 267, 256, 5, 268, 101, 26...  "
            ],
            "text/html": [
              "\n",
              "  <div id=\"df-1c03f553-ece8-4401-ba2e-736d9b3289a6\">\n",
              "    <div class=\"colab-df-container\">\n",
              "      <div>\n",
              "<style scoped>\n",
              "    .dataframe tbody tr th:only-of-type {\n",
              "        vertical-align: middle;\n",
              "    }\n",
              "\n",
              "    .dataframe tbody tr th {\n",
              "        vertical-align: top;\n",
              "    }\n",
              "\n",
              "    .dataframe thead th {\n",
              "        text-align: right;\n",
              "    }\n",
              "</style>\n",
              "<table border=\"1\" class=\"dataframe\">\n",
              "  <thead>\n",
              "    <tr style=\"text-align: right;\">\n",
              "      <th></th>\n",
              "      <th>DESCRIPTION</th>\n",
              "      <th>SUBJECT</th>\n",
              "      <th>MAIN_SUBJECT</th>\n",
              "      <th>CLASS</th>\n",
              "      <th>BERT_TOKENIZED</th>\n",
              "      <th>SPACY_PREPROCESSED</th>\n",
              "      <th>LABEL</th>\n",
              "      <th>encoded</th>\n",
              "    </tr>\n",
              "  </thead>\n",
              "  <tbody>\n",
              "    <tr>\n",
              "      <th>0</th>\n",
              "      <td>The United States Department of Energy Vehicle...</td>\n",
              "      <td>['33 Advanced Propulsion Systems', '36 Materia...</td>\n",
              "      <td>33 Advanced Propulsion Systems</td>\n",
              "      <td>Energy Storage, Conversion, and Utilization</td>\n",
              "      <td>{'input_ids': tensor([[  101,  1996,  2142,  2...</td>\n",
              "      <td>united states department energy vehicle techno...</td>\n",
              "      <td>0</td>\n",
              "      <td>[[2, 3, 4, 5, 6, 7, 8, 9, 10, 11, 12, 13, 14, ...</td>\n",
              "    </tr>\n",
              "    <tr>\n",
              "      <th>1</th>\n",
              "      <td>Solar reflective “cool pavements” have been pr...</td>\n",
              "      <td>['32 Energy Conservation, Consumption, And Uti...</td>\n",
              "      <td>32 Energy Conservation, Consumption, And Utili...</td>\n",
              "      <td>Energy Storage, Conversion, and Utilization</td>\n",
              "      <td>{'input_ids': tensor([[  101,  5943, 21346,  1...</td>\n",
              "      <td>solar reflective cool pavement propose potenti...</td>\n",
              "      <td>0</td>\n",
              "      <td>[[87, 88, 89, 90, 91, 92, 93, 94, 95, 96, 97, ...</td>\n",
              "    </tr>\n",
              "    <tr>\n",
              "      <th>2</th>\n",
              "      <td>Inconel 718 alloy is used extensively in aerog...</td>\n",
              "      <td>['36 Materials Science', '33 Advanced Propulsi...</td>\n",
              "      <td>33 Advanced Propulsion Systems</td>\n",
              "      <td>Energy Storage, Conversion, and Utilization</td>\n",
              "      <td>{'input_ids': tensor([[  101,  4297,  5643,  2...</td>\n",
              "      <td>inconel alloy extensively aerogas turbine allo...</td>\n",
              "      <td>0</td>\n",
              "      <td>[[179, 180, 181, 1, 182, 180, 183, 184, 185, 1...</td>\n",
              "    </tr>\n",
              "    <tr>\n",
              "      <th>3</th>\n",
              "      <td>The Production Tax Credit (PTC) and the Invest...</td>\n",
              "      <td>['29 Energy Planning, Policy, And Economy', 'P...</td>\n",
              "      <td>29 Energy Planning, Policy, And Economy</td>\n",
              "      <td>Energy Storage, Conversion, and Utilization</td>\n",
              "      <td>{'input_ids': tensor([[  101,  1996,  2537,  4...</td>\n",
              "      <td>production tax credit ptc investment tax credi...</td>\n",
              "      <td>0</td>\n",
              "      <td>[[56, 248, 249, 250, 251, 248, 249, 252, 253, ...</td>\n",
              "    </tr>\n",
              "    <tr>\n",
              "      <th>4</th>\n",
              "      <td>The production tax credit (PTC) promotes wind ...</td>\n",
              "      <td>['29 Energy Planning, Policy, And Economy', '1...</td>\n",
              "      <td>29 Energy Planning, Policy, And Economy</td>\n",
              "      <td>Energy Storage, Conversion, and Utilization</td>\n",
              "      <td>{'input_ids': tensor([[  101,  1996,  2537,  4...</td>\n",
              "      <td>production tax credit ptc promote wind energy ...</td>\n",
              "      <td>0</td>\n",
              "      <td>[[56, 248, 249, 250, 267, 256, 5, 268, 101, 26...</td>\n",
              "    </tr>\n",
              "  </tbody>\n",
              "</table>\n",
              "</div>\n",
              "      <button class=\"colab-df-convert\" onclick=\"convertToInteractive('df-1c03f553-ece8-4401-ba2e-736d9b3289a6')\"\n",
              "              title=\"Convert this dataframe to an interactive table.\"\n",
              "              style=\"display:none;\">\n",
              "        \n",
              "  <svg xmlns=\"http://www.w3.org/2000/svg\" height=\"24px\"viewBox=\"0 0 24 24\"\n",
              "       width=\"24px\">\n",
              "    <path d=\"M0 0h24v24H0V0z\" fill=\"none\"/>\n",
              "    <path d=\"M18.56 5.44l.94 2.06.94-2.06 2.06-.94-2.06-.94-.94-2.06-.94 2.06-2.06.94zm-11 1L8.5 8.5l.94-2.06 2.06-.94-2.06-.94L8.5 2.5l-.94 2.06-2.06.94zm10 10l.94 2.06.94-2.06 2.06-.94-2.06-.94-.94-2.06-.94 2.06-2.06.94z\"/><path d=\"M17.41 7.96l-1.37-1.37c-.4-.4-.92-.59-1.43-.59-.52 0-1.04.2-1.43.59L10.3 9.45l-7.72 7.72c-.78.78-.78 2.05 0 2.83L4 21.41c.39.39.9.59 1.41.59.51 0 1.02-.2 1.41-.59l7.78-7.78 2.81-2.81c.8-.78.8-2.07 0-2.86zM5.41 20L4 18.59l7.72-7.72 1.47 1.35L5.41 20z\"/>\n",
              "  </svg>\n",
              "      </button>\n",
              "      \n",
              "  <style>\n",
              "    .colab-df-container {\n",
              "      display:flex;\n",
              "      flex-wrap:wrap;\n",
              "      gap: 12px;\n",
              "    }\n",
              "\n",
              "    .colab-df-convert {\n",
              "      background-color: #E8F0FE;\n",
              "      border: none;\n",
              "      border-radius: 50%;\n",
              "      cursor: pointer;\n",
              "      display: none;\n",
              "      fill: #1967D2;\n",
              "      height: 32px;\n",
              "      padding: 0 0 0 0;\n",
              "      width: 32px;\n",
              "    }\n",
              "\n",
              "    .colab-df-convert:hover {\n",
              "      background-color: #E2EBFA;\n",
              "      box-shadow: 0px 1px 2px rgba(60, 64, 67, 0.3), 0px 1px 3px 1px rgba(60, 64, 67, 0.15);\n",
              "      fill: #174EA6;\n",
              "    }\n",
              "\n",
              "    [theme=dark] .colab-df-convert {\n",
              "      background-color: #3B4455;\n",
              "      fill: #D2E3FC;\n",
              "    }\n",
              "\n",
              "    [theme=dark] .colab-df-convert:hover {\n",
              "      background-color: #434B5C;\n",
              "      box-shadow: 0px 1px 3px 1px rgba(0, 0, 0, 0.15);\n",
              "      filter: drop-shadow(0px 1px 2px rgba(0, 0, 0, 0.3));\n",
              "      fill: #FFFFFF;\n",
              "    }\n",
              "  </style>\n",
              "\n",
              "      <script>\n",
              "        const buttonEl =\n",
              "          document.querySelector('#df-1c03f553-ece8-4401-ba2e-736d9b3289a6 button.colab-df-convert');\n",
              "        buttonEl.style.display =\n",
              "          google.colab.kernel.accessAllowed ? 'block' : 'none';\n",
              "\n",
              "        async function convertToInteractive(key) {\n",
              "          const element = document.querySelector('#df-1c03f553-ece8-4401-ba2e-736d9b3289a6');\n",
              "          const dataTable =\n",
              "            await google.colab.kernel.invokeFunction('convertToInteractive',\n",
              "                                                     [key], {});\n",
              "          if (!dataTable) return;\n",
              "\n",
              "          const docLinkHtml = 'Like what you see? Visit the ' +\n",
              "            '<a target=\"_blank\" href=https://colab.research.google.com/notebooks/data_table.ipynb>data table notebook</a>'\n",
              "            + ' to learn more about interactive tables.';\n",
              "          element.innerHTML = '';\n",
              "          dataTable['output_type'] = 'display_data';\n",
              "          await google.colab.output.renderOutput(dataTable, element);\n",
              "          const docLink = document.createElement('div');\n",
              "          docLink.innerHTML = docLinkHtml;\n",
              "          element.appendChild(docLink);\n",
              "        }\n",
              "      </script>\n",
              "    </div>\n",
              "  </div>\n",
              "  "
            ]
          },
          "metadata": {},
          "execution_count": 143
        }
      ],
      "source": [
        "df['encoded'] = df['SPACY_PREPROCESSED'].apply(lambda x: np.array(encode_sentence(x,vocab2index ), dtype=object))\n",
        "df.head()"
      ]
    },
    {
      "cell_type": "code",
      "execution_count": 144,
      "id": "406be00c",
      "metadata": {
        "colab": {
          "base_uri": "https://localhost:8080/"
        },
        "id": "406be00c",
        "outputId": "dbf689a6-4bc7-41b1-f189-a95673feafa0"
      },
      "outputs": [
        {
          "output_type": "execute_result",
          "data": {
            "text/plain": [
              "Counter({'Energy Storage, Conversion, and Utilization': 1223,\n",
              "         'Environmental Sciences': 1223,\n",
              "         'Fission and Nuclear Technologies': 1223,\n",
              "         'Fossil Fuels': 1223,\n",
              "         'Renewable Energy Sources': 1223})"
            ]
          },
          "metadata": {},
          "execution_count": 144
        }
      ],
      "source": [
        "Counter(df['CLASS'])"
      ]
    },
    {
      "cell_type": "code",
      "execution_count": 145,
      "id": "196c1787",
      "metadata": {
        "id": "196c1787"
      },
      "outputs": [],
      "source": [
        "X = list(df['encoded'])\n",
        "y = list(df['LABEL'])\n",
        "X_train, X_valid, y_train, y_valid = train_test_split(X, y, \n",
        "                                                      train_size=0.7, test_size=0.15, \n",
        "                                                      random_state=RANDOM_STATE,\n",
        "                                                      shuffle=True)"
      ]
    },
    {
      "cell_type": "code",
      "execution_count": 146,
      "id": "1e5ac463",
      "metadata": {
        "id": "1e5ac463"
      },
      "outputs": [],
      "source": [
        "class ResearchDataSet(Dataset):\n",
        "    def __init__(self, X, Y):\n",
        "        self.X = X\n",
        "        self.y = Y\n",
        "        \n",
        "    def __len__(self):\n",
        "        return len(self.y)\n",
        "    \n",
        "    def __getitem__(self, idx):\n",
        "        return torch.from_numpy(self.X[idx][0].astype(np.int32)), self.y[idx], self.X[idx][1]"
      ]
    },
    {
      "cell_type": "code",
      "execution_count": 147,
      "id": "9504661c",
      "metadata": {
        "id": "9504661c"
      },
      "outputs": [],
      "source": [
        "train_ds = ResearchDataSet(X_train, y_train)\n",
        "valid_ds = ResearchDataSet(X_valid, y_valid)"
      ]
    },
    {
      "cell_type": "code",
      "execution_count": 148,
      "id": "6a22d8ee",
      "metadata": {
        "id": "6a22d8ee"
      },
      "outputs": [],
      "source": [
        "from sklearn.metrics import precision_score, recall_score, f1_score, confusion_matrix\n",
        "\n",
        "def train_model(model, epochs=NUM_EPOCHS, lr=LEARNING_RATE):\n",
        "    parameters = filter(lambda p: p.requires_grad, model.parameters())\n",
        "    optimizer = torch.optim.Adam(parameters, lr=lr)\n",
        "\n",
        "    # initialize list\n",
        "    val_loss_list = []\n",
        "    val_acc_list = []\n",
        "    precision_list = []\n",
        "    recall_list = []\n",
        "    f1_list = []\n",
        "    c_mat_list = []\n",
        "\n",
        "    # train over epochs\n",
        "    for i in range(epochs):\n",
        "        model.train()\n",
        "        sum_loss = 0.0\n",
        "        total = 0\n",
        "        for x, y, l in train_dl:\n",
        "            x = x.long()\n",
        "            y = y.long()\n",
        "            y_pred = model(x, l)\n",
        "            optimizer.zero_grad()\n",
        "            loss = F.cross_entropy(y_pred, y)\n",
        "            loss.backward()\n",
        "            optimizer.step()\n",
        "            sum_loss += loss.item()*y.shape[0]\n",
        "            total += y.shape[0]\n",
        "        val_loss, val_acc, precision_score, recall_score, f1_score, c_mat = validation_metrics(model, val_dl)\n",
        "        \n",
        "        # update lists\n",
        "        val_loss_list.append(val_loss)\n",
        "        val_acc_list.append(val_acc)\n",
        "        precision_list.append(precision_score)\n",
        "        recall_list.append(recall_score)\n",
        "        f1_list.append(f1_score)\n",
        "        c_mat_list.append(c_mat)\n",
        "\n",
        "        # print results\n",
        "        if i % 1 == 0:\n",
        "            print(\n",
        "                \"epoch: %.0f\\ntrain loss %.3f, val loss %.3f, val accuracy %.3f, precision %.3f, recall %.3f, f1 %.3f\" % (i, \n",
        "                                                                                                                            sum_loss/total, \n",
        "                                                                                                                            val_loss, \n",
        "                                                                                                                            val_acc, \n",
        "                                                                                                                            precision_score, \n",
        "                                                                                                                            recall_score, \n",
        "                                                                                                                            f1_score))\n",
        "        if i == NUM_EPOCHS - 1:\n",
        "            print(\"\\nconfusion matrix:\\n\", np.round(c_mat, decimals=1))\n",
        "\n",
        "def validation_metrics (model, valid_dl):\n",
        "    model.eval()\n",
        "    correct = 0\n",
        "    total = 0\n",
        "    sum_loss = 0.0\n",
        "    true_labels = []\n",
        "    predicted_labels = []\n",
        "    for x, y, l in valid_dl:\n",
        "        x = x.long()\n",
        "        y = y.long()\n",
        "        y_hat = model(x, l)\n",
        "        loss = F.cross_entropy(y_hat, y)\n",
        "        pred = torch.max(y_hat, 1)[1]\n",
        "        true_labels.extend(y.tolist())\n",
        "        predicted_labels.extend(pred.tolist())\n",
        "        correct += (pred == y).float().sum()\n",
        "        total += y.shape[0]\n",
        "        sum_loss += loss.item()*y.shape[0]\n",
        "    precision = precision_score(true_labels, predicted_labels, average='weighted')\n",
        "    recall = recall_score(true_labels, predicted_labels, average='weighted')\n",
        "    f1 = f1_score(true_labels, predicted_labels, average='weighted')\n",
        "    cm = confusion_matrix(true_labels, predicted_labels)\n",
        "    cm = (cm / cm.sum(axis=1)) * 100 \n",
        "    return sum_loss/total, correct/total, precision, recall, f1, cm"
      ]
    },
    {
      "cell_type": "code",
      "execution_count": 149,
      "id": "a9d86e4b",
      "metadata": {
        "id": "a9d86e4b"
      },
      "outputs": [],
      "source": [
        "VOCAB_SIZE = len(words)\n",
        "train_dl = DataLoader(train_ds, batch_size=BATCH_SIZE, shuffle=True)\n",
        "val_dl = DataLoader(valid_ds, batch_size=BATCH_SIZE)"
      ]
    },
    {
      "cell_type": "markdown",
      "id": "d94b6f38",
      "metadata": {
        "id": "d94b6f38"
      },
      "source": [
        "LSTM with Fixed-Length Input"
      ]
    },
    {
      "cell_type": "code",
      "execution_count": 150,
      "id": "9808733d",
      "metadata": {
        "id": "9808733d"
      },
      "outputs": [],
      "source": [
        "DROPOUT = 0.1\n",
        "\n",
        "class LSTM_fixed_len(torch.nn.Module) :\n",
        "    def __init__(self, vocab_size, embedding_dim, hidden_dim) :\n",
        "        super().__init__()\n",
        "        self.embeddings = nn.Embedding(vocab_size, embedding_dim, padding_idx=0)\n",
        "        self.lstm = nn.LSTM(embedding_dim, hidden_dim, batch_first=True)\n",
        "        self.linear = nn.Linear(hidden_dim, 5)\n",
        "        self.dropout = nn.Dropout(DROPOUT)\n",
        "        \n",
        "    def forward(self, x, l):\n",
        "        x = self.embeddings(x)\n",
        "        x = self.dropout(x)\n",
        "        lstm_out, (ht, ct) = self.lstm(x)\n",
        "        return self.linear(ht[-1])"
      ]
    },
    {
      "cell_type": "code",
      "execution_count": 151,
      "id": "9cf723e6",
      "metadata": {
        "id": "9cf723e6"
      },
      "outputs": [],
      "source": [
        "EMBEDDING_DIM = 300\n",
        "HIDDEN_DIM = 512\n",
        "# model_fixed =  LSTM_fixed_len(VOCAB_SIZE, EMBEDDING_DIM, HIDDEN_DIM)"
      ]
    },
    {
      "cell_type": "code",
      "execution_count": 152,
      "id": "aad2fddd",
      "metadata": {
        "id": "aad2fddd"
      },
      "outputs": [],
      "source": [
        "# train_model(model_fixed, epochs=NUM_EPOCHS, lr=LEARNING_RATE)"
      ]
    },
    {
      "cell_type": "markdown",
      "source": [
        "LSTM with Variable-Length Input"
      ],
      "metadata": {
        "id": "DfZrbIU5779V"
      },
      "id": "DfZrbIU5779V"
    },
    {
      "cell_type": "code",
      "source": [
        "DROPOUT = 0.3\n",
        "\n",
        "class LSTM_variable_input(torch.nn.Module) :\n",
        "    def __init__(self, vocab_size, embedding_dim, hidden_dim) :\n",
        "        super().__init__()\n",
        "        self.hidden_dim = hidden_dim\n",
        "        self.dropout = nn.Dropout(DROPOUT)\n",
        "        self.embeddings = nn.Embedding(vocab_size, embedding_dim, padding_idx=0)\n",
        "        self.lstm = nn.LSTM(embedding_dim, hidden_dim, batch_first=True)\n",
        "        self.linear = nn.Linear(hidden_dim, 5)\n",
        "        \n",
        "    def forward(self, x, s):\n",
        "        x = self.embeddings(x)\n",
        "        x = self.dropout(x)\n",
        "        x_pack = pack_padded_sequence(x, s, batch_first=True, enforce_sorted=False)\n",
        "        out_pack, (ht, ct) = self.lstm(x_pack)\n",
        "        out = self.linear(ht[-1])\n",
        "        return out"
      ],
      "metadata": {
        "id": "k5CzJBb2G_wL"
      },
      "id": "k5CzJBb2G_wL",
      "execution_count": 153,
      "outputs": []
    },
    {
      "cell_type": "code",
      "source": [
        "EMBEDDING_DIM = 300\n",
        "HIDDEN_DIM = 128\n",
        "model_variable =  LSTM_variable_input(VOCAB_SIZE, EMBEDDING_DIM, HIDDEN_DIM)\n",
        "\n",
        "# worked:\n",
        "# EMBEDDING_DIM = 300\n",
        "# HIDDEN_DIM = 256\n",
        "# RANDOM_STATE = 30255\n",
        "# BATCH_SIZE = 32\n",
        "# MAX_LENGTH = 512\n",
        "# NUM_EPOCHS = 50\n",
        "# LEARNING_RATE = 0.01\n",
        "# DROPOUT = 0.1"
      ],
      "metadata": {
        "id": "0_rUj5Ar8FLO"
      },
      "id": "0_rUj5Ar8FLO",
      "execution_count": 154,
      "outputs": []
    },
    {
      "cell_type": "code",
      "source": [
        "train_model(model_variable, epochs=NUM_EPOCHS, lr=LEARNING_RATE)"
      ],
      "metadata": {
        "colab": {
          "base_uri": "https://localhost:8080/"
        },
        "id": "byt4bg898HzI",
        "outputId": "aea9c546-f3af-4265-8a87-7b14c69e5b98"
      },
      "id": "byt4bg898HzI",
      "execution_count": 155,
      "outputs": [
        {
          "output_type": "stream",
          "name": "stdout",
          "text": [
            "epoch: 0\n",
            "train loss 1.523, val loss 1.395, val accuracy 0.434, precision 0.431, recall 0.434, f1 0.429\n",
            "epoch: 1\n",
            "train loss 1.229, val loss 1.108, val accuracy 0.593, precision 0.592, recall 0.593, f1 0.580\n",
            "epoch: 2\n",
            "train loss 0.965, val loss 1.063, val accuracy 0.629, precision 0.649, recall 0.629, f1 0.611\n",
            "epoch: 3\n",
            "train loss 0.829, val loss 1.242, val accuracy 0.624, precision 0.669, recall 0.624, f1 0.618\n",
            "epoch: 4\n",
            "train loss 0.865, val loss 1.093, val accuracy 0.587, precision 0.612, recall 0.587, f1 0.581\n",
            "epoch: 5\n",
            "train loss 0.755, val loss 1.020, val accuracy 0.658, precision 0.664, recall 0.658, f1 0.655\n",
            "epoch: 6\n",
            "train loss 0.612, val loss 1.097, val accuracy 0.670, precision 0.680, recall 0.670, f1 0.665\n",
            "epoch: 7\n",
            "train loss 0.521, val loss 1.001, val accuracy 0.703, precision 0.705, recall 0.703, f1 0.701\n",
            "epoch: 8\n",
            "train loss 0.458, val loss 1.060, val accuracy 0.698, precision 0.699, recall 0.698, f1 0.696\n",
            "epoch: 9\n",
            "train loss 0.388, val loss 1.094, val accuracy 0.715, precision 0.718, recall 0.715, f1 0.711\n",
            "epoch: 10\n",
            "train loss 0.322, val loss 1.133, val accuracy 0.716, precision 0.717, recall 0.716, f1 0.711\n",
            "epoch: 11\n",
            "train loss 0.267, val loss 1.446, val accuracy 0.710, precision 0.726, recall 0.710, f1 0.705\n",
            "epoch: 12\n",
            "train loss 0.240, val loss 1.297, val accuracy 0.734, precision 0.739, recall 0.734, f1 0.731\n",
            "epoch: 13\n",
            "train loss 0.234, val loss 1.275, val accuracy 0.731, precision 0.740, recall 0.731, f1 0.726\n",
            "epoch: 14\n",
            "train loss 0.208, val loss 1.191, val accuracy 0.749, precision 0.750, recall 0.749, f1 0.749\n",
            "epoch: 15\n",
            "train loss 0.169, val loss 1.307, val accuracy 0.743, precision 0.751, recall 0.743, f1 0.742\n",
            "epoch: 16\n",
            "train loss 0.201, val loss 1.297, val accuracy 0.722, precision 0.726, recall 0.722, f1 0.720\n",
            "epoch: 17\n",
            "train loss 0.158, val loss 1.358, val accuracy 0.698, precision 0.711, recall 0.698, f1 0.696\n",
            "epoch: 18\n",
            "train loss 0.218, val loss 1.491, val accuracy 0.708, precision 0.719, recall 0.708, f1 0.701\n",
            "epoch: 19\n",
            "train loss 0.150, val loss 1.400, val accuracy 0.721, precision 0.727, recall 0.721, f1 0.720\n",
            "epoch: 20\n",
            "train loss 0.138, val loss 1.485, val accuracy 0.725, precision 0.737, recall 0.725, f1 0.724\n",
            "epoch: 21\n",
            "train loss 0.111, val loss 1.476, val accuracy 0.730, precision 0.733, recall 0.730, f1 0.728\n",
            "epoch: 22\n",
            "train loss 0.089, val loss 1.582, val accuracy 0.723, precision 0.737, recall 0.723, f1 0.721\n",
            "epoch: 23\n",
            "train loss 0.086, val loss 1.467, val accuracy 0.753, precision 0.757, recall 0.753, f1 0.751\n",
            "epoch: 24\n",
            "train loss 0.074, val loss 1.464, val accuracy 0.746, precision 0.752, recall 0.746, f1 0.747\n",
            "epoch: 25\n",
            "train loss 0.057, val loss 1.856, val accuracy 0.733, precision 0.749, recall 0.733, f1 0.731\n",
            "epoch: 26\n",
            "train loss 0.059, val loss 1.822, val accuracy 0.733, precision 0.745, recall 0.733, f1 0.729\n",
            "epoch: 27\n",
            "train loss 0.063, val loss 1.552, val accuracy 0.744, precision 0.747, recall 0.744, f1 0.744\n",
            "epoch: 28\n",
            "train loss 0.055, val loss 1.766, val accuracy 0.744, precision 0.752, recall 0.744, f1 0.742\n",
            "epoch: 29\n",
            "train loss 0.046, val loss 1.669, val accuracy 0.745, precision 0.749, recall 0.745, f1 0.745\n",
            "\n",
            "confusion matrix:\n",
            " [[76.8  8.8  4.2  5.7  4.8]\n",
            " [ 8.1 78.6  4.7  5.2  3.2]\n",
            " [ 3.2  7.1 71.7  4.  15.1]\n",
            " [ 4.9  8.2  0.5 80.5  4.8]\n",
            " [ 8.1  8.2  3.7 15.5 65.6]]\n"
          ]
        }
      ]
    },
    {
      "cell_type": "markdown",
      "id": "b20b72e1",
      "metadata": {
        "id": "b20b72e1"
      },
      "source": [
        "---------------"
      ]
    },
    {
      "cell_type": "markdown",
      "source": [
        "GloVe"
      ],
      "metadata": {
        "id": "aT037UTg-Z4H"
      },
      "id": "aT037UTg-Z4H"
    },
    {
      "cell_type": "code",
      "source": [
        "GLOVE_FILE = os.path.join(PATH + \"glove.6B.300d.txt\")\n",
        "\n",
        "def load_glove_vectors(glove_file = GLOVE_FILE):\n",
        "    \"\"\"Load the glove word vectors\"\"\"\n",
        "    word_vectors = {}\n",
        "    with open(glove_file) as f:\n",
        "        for line in f:\n",
        "            split = line.split()\n",
        "            word_vectors[split[0]] = np.array([float(x) for x in split[1:]])\n",
        "    return word_vectors\n",
        "\n",
        "\n",
        "def get_emb_matrix(pretrained, word_counts, emb_size):\n",
        "    \"\"\" Creates embedding matrix from word vectors\"\"\"\n",
        "    vocab_size = len(word_counts) + 2\n",
        "    vocab_to_idx = {}\n",
        "    vocab = [\"\", \"UNK\"]\n",
        "    W = np.zeros((vocab_size, emb_size), dtype=\"float32\")\n",
        "    W[0] = np.zeros(emb_size, dtype='float32') # adding a vector for padding\n",
        "    W[1] = np.random.uniform(-0.25, 0.25, emb_size) # adding a vector for unknown words \n",
        "    vocab_to_idx[\"UNK\"] = 1\n",
        "    i = 2\n",
        "    for word in word_counts:\n",
        "        if word in word_vecs:\n",
        "            W[i] = word_vecs[word]\n",
        "        else:\n",
        "            W[i] = np.random.uniform(-0.25,0.25, emb_size)\n",
        "        vocab_to_idx[word] = i\n",
        "        vocab.append(word)\n",
        "        i += 1   \n",
        "    return W, np.array(vocab), vocab_to_idx"
      ],
      "metadata": {
        "id": "i7uQuCEF-gvR"
      },
      "id": "i7uQuCEF-gvR",
      "execution_count": 49,
      "outputs": []
    },
    {
      "cell_type": "code",
      "source": [
        "word_vecs = load_glove_vectors()\n",
        "pretrained_weights, vocab, vocab2index = get_emb_matrix(word_vecs, counts, EMBEDDING_DIM)"
      ],
      "metadata": {
        "id": "a_8Xs77z-8Eo"
      },
      "id": "a_8Xs77z-8Eo",
      "execution_count": 50,
      "outputs": []
    },
    {
      "cell_type": "code",
      "source": [
        "DROPOUT = 0.1\n",
        "\n",
        "class LSTM_glove_vecs(torch.nn.Module) :\n",
        "    def __init__(self, vocab_size, embedding_dim, hidden_dim, glove_weights) :\n",
        "        super().__init__()\n",
        "        self.embeddings = nn.Embedding(vocab_size, embedding_dim, padding_idx=0)\n",
        "        self.embeddings.weight.data.copy_(torch.from_numpy(glove_weights))\n",
        "        self.embeddings.weight.requires_grad = False ## freeze embeddings\n",
        "        self.lstm = nn.LSTM(embedding_dim, hidden_dim, batch_first=True)\n",
        "        self.linear = nn.Linear(hidden_dim, 5)\n",
        "        self.dropout = nn.Dropout(DROPOUT)\n",
        "        \n",
        "    def forward(self, x, l):\n",
        "        x = self.embeddings(x)\n",
        "        x = self.dropout(x)\n",
        "        lstm_out, (ht, ct) = self.lstm(x)\n",
        "        return self.linear(ht[-1])"
      ],
      "metadata": {
        "id": "wJeznFnH--7s"
      },
      "id": "wJeznFnH--7s",
      "execution_count": 51,
      "outputs": []
    },
    {
      "cell_type": "code",
      "source": [
        "model_glove = LSTM_glove_vecs(VOCAB_SIZE, EMBEDDING_DIM, HIDDEN_DIM, pretrained_weights)"
      ],
      "metadata": {
        "id": "dUM_I5mb_CIi"
      },
      "id": "dUM_I5mb_CIi",
      "execution_count": 53,
      "outputs": []
    },
    {
      "cell_type": "code",
      "source": [
        "train_model(model_glove, epochs=NUM_EPOCHS, lr=LEARNING_RATE)"
      ],
      "metadata": {
        "colab": {
          "base_uri": "https://localhost:8080/"
        },
        "id": "ouT866S__m1m",
        "outputId": "d27b2ab2-3365-423a-b5a1-21828234dbae"
      },
      "id": "ouT866S__m1m",
      "execution_count": null,
      "outputs": [
        {
          "output_type": "stream",
          "name": "stdout",
          "text": [
            "epoch: 0\n",
            "train loss 1.695, val loss 1.657, val accuracy 0.216\n",
            "epoch: 1\n",
            "train loss 1.703, val loss 1.688, val accuracy 0.191\n",
            "epoch: 2\n",
            "train loss 1.693, val loss 1.683, val accuracy 0.216\n",
            "epoch: 3\n",
            "train loss 1.691, val loss 1.706, val accuracy 0.208\n",
            "epoch: 4\n",
            "train loss 1.687, val loss 1.715, val accuracy 0.198\n"
          ]
        }
      ]
    },
    {
      "cell_type": "code",
      "source": [
        "len(vocab)"
      ],
      "metadata": {
        "colab": {
          "base_uri": "https://localhost:8080/"
        },
        "id": "YDyhIv2zLMDd",
        "outputId": "8ec4cefb-513d-4728-e19e-3cb66ca28d17"
      },
      "id": "YDyhIv2zLMDd",
      "execution_count": 39,
      "outputs": [
        {
          "output_type": "execute_result",
          "data": {
            "text/plain": [
              "17573"
            ]
          },
          "metadata": {},
          "execution_count": 39
        }
      ]
    },
    {
      "cell_type": "code",
      "source": [
        "VOCAB_SIZE"
      ],
      "metadata": {
        "colab": {
          "base_uri": "https://localhost:8080/"
        },
        "id": "A92KDjhqLe-0",
        "outputId": "dd7986c3-6805-4213-aaf7-1a5177c65017"
      },
      "id": "A92KDjhqLe-0",
      "execution_count": 40,
      "outputs": [
        {
          "output_type": "execute_result",
          "data": {
            "text/plain": [
              "17573"
            ]
          },
          "metadata": {},
          "execution_count": 40
        }
      ]
    }
  ],
  "metadata": {
    "kernelspec": {
      "display_name": "capp30255",
      "language": "python",
      "name": "capp30255"
    },
    "language_info": {
      "codemirror_mode": {
        "name": "ipython",
        "version": 3
      },
      "file_extension": ".py",
      "mimetype": "text/x-python",
      "name": "python",
      "nbconvert_exporter": "python",
      "pygments_lexer": "ipython3",
      "version": "3.10.10"
    },
    "colab": {
      "provenance": []
    }
  },
  "nbformat": 4,
  "nbformat_minor": 5
}