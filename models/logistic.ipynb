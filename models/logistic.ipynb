{
  "nbformat": 4,
  "nbformat_minor": 0,
  "metadata": {
    "colab": {
      "provenance": [],
      "gpuType": "T4"
    },
    "kernelspec": {
      "name": "python3",
      "display_name": "Python 3"
    },
    "language_info": {
      "name": "python"
    },
    "accelerator": "GPU",
    "gpuClass": "standard"
  },
  "cells": [
    {
      "cell_type": "code",
      "execution_count": 7,
      "metadata": {
        "id": "PKz4NOtztXCQ"
      },
      "outputs": [],
      "source": [
        "COLAB = True"
      ]
    },
    {
      "cell_type": "code",
      "source": [
        "import torch\n",
        "import torch.nn as nn\n",
        "import pandas as pd\n",
        "import numpy as np\n",
        "import spacy\n",
        "from sklearn import preprocessing\n",
        "from sklearn.model_selection import train_test_split\n",
        "from torch.utils.data import Dataset, DataLoader\n",
        "import torch.nn.functional as F\n",
        "from torch.nn.utils.rnn import pack_padded_sequence, pad_packed_sequence\n",
        "from collections import Counter\n",
        "from google.colab import drive\n",
        "import os"
      ],
      "metadata": {
        "id": "KUMDnqLKtb8x"
      },
      "execution_count": 8,
      "outputs": []
    },
    {
      "cell_type": "code",
      "source": [
        "RANDOM_STATE = 30255\n",
        "NUM_EPOCHS = 7\n",
        "\n",
        "if COLAB:\n",
        "  drive.mount('/content/gdrive')\n",
        "  PATH = \"gdrive/Shareddrives/Adv ML Project/Data/\"\n",
        "  df = pd.read_csv(os.path.join(PATH + \"preprocessed_data.csv\"))\n",
        "\n",
        "else:\n",
        "  df = pd.read_csv('../data/preprocessed_data.csv')\n",
        "  df = df.sample(n=100, random_state=RANDOM_STATE).reset_index()\n",
        "\n",
        "\n",
        "le = preprocessing.LabelEncoder()\n",
        "le.fit(df['CLASS'])\n",
        "df['LABEL'] = le.transform(df['CLASS'])\n",
        "\n",
        "df.head()"
      ],
      "metadata": {
        "colab": {
          "base_uri": "https://localhost:8080/",
          "height": 355
        },
        "id": "vLnB4ceZtepJ",
        "outputId": "61f266b7-b0d6-40a4-f781-69de9ef5cc21"
      },
      "execution_count": 9,
      "outputs": [
        {
          "output_type": "stream",
          "name": "stdout",
          "text": [
            "Drive already mounted at /content/gdrive; to attempt to forcibly remount, call drive.mount(\"/content/gdrive\", force_remount=True).\n"
          ]
        },
        {
          "output_type": "execute_result",
          "data": {
            "text/plain": [
              "                                         DESCRIPTION  \\\n",
              "0  The United States Department of Energy Vehicle...   \n",
              "1  Solar reflective “cool pavements” have been pr...   \n",
              "2  Inconel 718 alloy is used extensively in aerog...   \n",
              "3  The Production Tax Credit (PTC) and the Invest...   \n",
              "4  The production tax credit (PTC) promotes wind ...   \n",
              "\n",
              "                                             SUBJECT  \\\n",
              "0  ['33 Advanced Propulsion Systems', '36 Materia...   \n",
              "1  ['32 Energy Conservation, Consumption, And Uti...   \n",
              "2  ['36 Materials Science', '33 Advanced Propulsi...   \n",
              "3  ['29 Energy Planning, Policy, And Economy', 'P...   \n",
              "4  ['29 Energy Planning, Policy, And Economy', '1...   \n",
              "\n",
              "                                        MAIN_SUBJECT  \\\n",
              "0                     33 Advanced Propulsion Systems   \n",
              "1  32 Energy Conservation, Consumption, And Utili...   \n",
              "2                     33 Advanced Propulsion Systems   \n",
              "3            29 Energy Planning, Policy, And Economy   \n",
              "4            29 Energy Planning, Policy, And Economy   \n",
              "\n",
              "                                         CLASS  \\\n",
              "0  Energy Storage, Conversion, and Utilization   \n",
              "1  Energy Storage, Conversion, and Utilization   \n",
              "2  Energy Storage, Conversion, and Utilization   \n",
              "3  Energy Storage, Conversion, and Utilization   \n",
              "4  Energy Storage, Conversion, and Utilization   \n",
              "\n",
              "                                      BERT_TOKENIZED  \\\n",
              "0  {'input_ids': tensor([[  101,  1996,  2142,  2...   \n",
              "1  {'input_ids': tensor([[  101,  5943, 21346,  1...   \n",
              "2  {'input_ids': tensor([[  101,  4297,  5643,  2...   \n",
              "3  {'input_ids': tensor([[  101,  1996,  2537,  4...   \n",
              "4  {'input_ids': tensor([[  101,  1996,  2537,  4...   \n",
              "\n",
              "                                  SPACY_PREPROCESSED  LABEL  \n",
              "0  united states department energy vehicle techno...      0  \n",
              "1  solar reflective cool pavement propose potenti...      0  \n",
              "2  inconel alloy extensively aerogas turbine allo...      0  \n",
              "3  production tax credit ptc investment tax credi...      0  \n",
              "4  production tax credit ptc promote wind energy ...      0  "
            ],
            "text/html": [
              "\n",
              "  <div id=\"df-06cba63a-d957-4dea-8560-c9dde9ecc6b1\">\n",
              "    <div class=\"colab-df-container\">\n",
              "      <div>\n",
              "<style scoped>\n",
              "    .dataframe tbody tr th:only-of-type {\n",
              "        vertical-align: middle;\n",
              "    }\n",
              "\n",
              "    .dataframe tbody tr th {\n",
              "        vertical-align: top;\n",
              "    }\n",
              "\n",
              "    .dataframe thead th {\n",
              "        text-align: right;\n",
              "    }\n",
              "</style>\n",
              "<table border=\"1\" class=\"dataframe\">\n",
              "  <thead>\n",
              "    <tr style=\"text-align: right;\">\n",
              "      <th></th>\n",
              "      <th>DESCRIPTION</th>\n",
              "      <th>SUBJECT</th>\n",
              "      <th>MAIN_SUBJECT</th>\n",
              "      <th>CLASS</th>\n",
              "      <th>BERT_TOKENIZED</th>\n",
              "      <th>SPACY_PREPROCESSED</th>\n",
              "      <th>LABEL</th>\n",
              "    </tr>\n",
              "  </thead>\n",
              "  <tbody>\n",
              "    <tr>\n",
              "      <th>0</th>\n",
              "      <td>The United States Department of Energy Vehicle...</td>\n",
              "      <td>['33 Advanced Propulsion Systems', '36 Materia...</td>\n",
              "      <td>33 Advanced Propulsion Systems</td>\n",
              "      <td>Energy Storage, Conversion, and Utilization</td>\n",
              "      <td>{'input_ids': tensor([[  101,  1996,  2142,  2...</td>\n",
              "      <td>united states department energy vehicle techno...</td>\n",
              "      <td>0</td>\n",
              "    </tr>\n",
              "    <tr>\n",
              "      <th>1</th>\n",
              "      <td>Solar reflective “cool pavements” have been pr...</td>\n",
              "      <td>['32 Energy Conservation, Consumption, And Uti...</td>\n",
              "      <td>32 Energy Conservation, Consumption, And Utili...</td>\n",
              "      <td>Energy Storage, Conversion, and Utilization</td>\n",
              "      <td>{'input_ids': tensor([[  101,  5943, 21346,  1...</td>\n",
              "      <td>solar reflective cool pavement propose potenti...</td>\n",
              "      <td>0</td>\n",
              "    </tr>\n",
              "    <tr>\n",
              "      <th>2</th>\n",
              "      <td>Inconel 718 alloy is used extensively in aerog...</td>\n",
              "      <td>['36 Materials Science', '33 Advanced Propulsi...</td>\n",
              "      <td>33 Advanced Propulsion Systems</td>\n",
              "      <td>Energy Storage, Conversion, and Utilization</td>\n",
              "      <td>{'input_ids': tensor([[  101,  4297,  5643,  2...</td>\n",
              "      <td>inconel alloy extensively aerogas turbine allo...</td>\n",
              "      <td>0</td>\n",
              "    </tr>\n",
              "    <tr>\n",
              "      <th>3</th>\n",
              "      <td>The Production Tax Credit (PTC) and the Invest...</td>\n",
              "      <td>['29 Energy Planning, Policy, And Economy', 'P...</td>\n",
              "      <td>29 Energy Planning, Policy, And Economy</td>\n",
              "      <td>Energy Storage, Conversion, and Utilization</td>\n",
              "      <td>{'input_ids': tensor([[  101,  1996,  2537,  4...</td>\n",
              "      <td>production tax credit ptc investment tax credi...</td>\n",
              "      <td>0</td>\n",
              "    </tr>\n",
              "    <tr>\n",
              "      <th>4</th>\n",
              "      <td>The production tax credit (PTC) promotes wind ...</td>\n",
              "      <td>['29 Energy Planning, Policy, And Economy', '1...</td>\n",
              "      <td>29 Energy Planning, Policy, And Economy</td>\n",
              "      <td>Energy Storage, Conversion, and Utilization</td>\n",
              "      <td>{'input_ids': tensor([[  101,  1996,  2537,  4...</td>\n",
              "      <td>production tax credit ptc promote wind energy ...</td>\n",
              "      <td>0</td>\n",
              "    </tr>\n",
              "  </tbody>\n",
              "</table>\n",
              "</div>\n",
              "      <button class=\"colab-df-convert\" onclick=\"convertToInteractive('df-06cba63a-d957-4dea-8560-c9dde9ecc6b1')\"\n",
              "              title=\"Convert this dataframe to an interactive table.\"\n",
              "              style=\"display:none;\">\n",
              "        \n",
              "  <svg xmlns=\"http://www.w3.org/2000/svg\" height=\"24px\"viewBox=\"0 0 24 24\"\n",
              "       width=\"24px\">\n",
              "    <path d=\"M0 0h24v24H0V0z\" fill=\"none\"/>\n",
              "    <path d=\"M18.56 5.44l.94 2.06.94-2.06 2.06-.94-2.06-.94-.94-2.06-.94 2.06-2.06.94zm-11 1L8.5 8.5l.94-2.06 2.06-.94-2.06-.94L8.5 2.5l-.94 2.06-2.06.94zm10 10l.94 2.06.94-2.06 2.06-.94-2.06-.94-.94-2.06-.94 2.06-2.06.94z\"/><path d=\"M17.41 7.96l-1.37-1.37c-.4-.4-.92-.59-1.43-.59-.52 0-1.04.2-1.43.59L10.3 9.45l-7.72 7.72c-.78.78-.78 2.05 0 2.83L4 21.41c.39.39.9.59 1.41.59.51 0 1.02-.2 1.41-.59l7.78-7.78 2.81-2.81c.8-.78.8-2.07 0-2.86zM5.41 20L4 18.59l7.72-7.72 1.47 1.35L5.41 20z\"/>\n",
              "  </svg>\n",
              "      </button>\n",
              "      \n",
              "  <style>\n",
              "    .colab-df-container {\n",
              "      display:flex;\n",
              "      flex-wrap:wrap;\n",
              "      gap: 12px;\n",
              "    }\n",
              "\n",
              "    .colab-df-convert {\n",
              "      background-color: #E8F0FE;\n",
              "      border: none;\n",
              "      border-radius: 50%;\n",
              "      cursor: pointer;\n",
              "      display: none;\n",
              "      fill: #1967D2;\n",
              "      height: 32px;\n",
              "      padding: 0 0 0 0;\n",
              "      width: 32px;\n",
              "    }\n",
              "\n",
              "    .colab-df-convert:hover {\n",
              "      background-color: #E2EBFA;\n",
              "      box-shadow: 0px 1px 2px rgba(60, 64, 67, 0.3), 0px 1px 3px 1px rgba(60, 64, 67, 0.15);\n",
              "      fill: #174EA6;\n",
              "    }\n",
              "\n",
              "    [theme=dark] .colab-df-convert {\n",
              "      background-color: #3B4455;\n",
              "      fill: #D2E3FC;\n",
              "    }\n",
              "\n",
              "    [theme=dark] .colab-df-convert:hover {\n",
              "      background-color: #434B5C;\n",
              "      box-shadow: 0px 1px 3px 1px rgba(0, 0, 0, 0.15);\n",
              "      filter: drop-shadow(0px 1px 2px rgba(0, 0, 0, 0.3));\n",
              "      fill: #FFFFFF;\n",
              "    }\n",
              "  </style>\n",
              "\n",
              "      <script>\n",
              "        const buttonEl =\n",
              "          document.querySelector('#df-06cba63a-d957-4dea-8560-c9dde9ecc6b1 button.colab-df-convert');\n",
              "        buttonEl.style.display =\n",
              "          google.colab.kernel.accessAllowed ? 'block' : 'none';\n",
              "\n",
              "        async function convertToInteractive(key) {\n",
              "          const element = document.querySelector('#df-06cba63a-d957-4dea-8560-c9dde9ecc6b1');\n",
              "          const dataTable =\n",
              "            await google.colab.kernel.invokeFunction('convertToInteractive',\n",
              "                                                     [key], {});\n",
              "          if (!dataTable) return;\n",
              "\n",
              "          const docLinkHtml = 'Like what you see? Visit the ' +\n",
              "            '<a target=\"_blank\" href=https://colab.research.google.com/notebooks/data_table.ipynb>data table notebook</a>'\n",
              "            + ' to learn more about interactive tables.';\n",
              "          element.innerHTML = '';\n",
              "          dataTable['output_type'] = 'display_data';\n",
              "          await google.colab.output.renderOutput(dataTable, element);\n",
              "          const docLink = document.createElement('div');\n",
              "          docLink.innerHTML = docLinkHtml;\n",
              "          element.appendChild(docLink);\n",
              "        }\n",
              "      </script>\n",
              "    </div>\n",
              "  </div>\n",
              "  "
            ]
          },
          "metadata": {},
          "execution_count": 9
        }
      ]
    },
    {
      "cell_type": "code",
      "source": [
        "tmp_dict = df[['CLASS', 'LABEL']].drop_duplicates().set_index('LABEL').to_dict('index')\n",
        "CATEGORY_DICT = {label: sub_dict['CLASS'] for label, sub_dict in tmp_dict.items()}\n",
        "list(CATEGORY_DICT.values())"
      ],
      "metadata": {
        "colab": {
          "base_uri": "https://localhost:8080/"
        },
        "id": "N095GJHNtk1z",
        "outputId": "8fb8cf30-5268-4b1a-9985-67b831eb0d3b"
      },
      "execution_count": 10,
      "outputs": [
        {
          "output_type": "execute_result",
          "data": {
            "text/plain": [
              "['Energy Storage, Conversion, and Utilization',\n",
              " 'Environmental Sciences',\n",
              " 'Fission and Nuclear Technologies',\n",
              " 'Fossil Fuels',\n",
              " 'Renewable Energy Sources']"
            ]
          },
          "metadata": {},
          "execution_count": 10
        }
      ]
    },
    {
      "cell_type": "code",
      "source": [
        "\n",
        "import torch.optim as optim\n",
        "\n",
        "# Use cuda if present\n",
        "device = torch.device(\"cuda\" if torch.cuda.is_available() else \"cpu\")\n",
        "print(\"Device available for running: \")\n",
        "print(device)"
      ],
      "metadata": {
        "colab": {
          "base_uri": "https://localhost:8080/"
        },
        "id": "UhdGRPSBtrSO",
        "outputId": "aa83e326-0887-4205-991e-cc2e8ed3c6b4"
      },
      "execution_count": 11,
      "outputs": [
        {
          "output_type": "stream",
          "name": "stdout",
          "text": [
            "Device available for running: \n",
            "cuda\n"
          ]
        }
      ]
    },
    {
      "cell_type": "code",
      "source": [
        "df['tokens'] = df['SPACY_PREPROCESSED'].apply(lambda x: x.split())"
      ],
      "metadata": {
        "id": "Wz5wwNbBveOM"
      },
      "execution_count": 12,
      "outputs": []
    },
    {
      "cell_type": "code",
      "source": [
        "X = df['tokens']\n",
        "y =df['LABEL']\n",
        "\n",
        "X_train, X_valid, y_train, y_valid = train_test_split(X, y, \n",
        "                                                      train_size=0.7, test_size=0.15, \n",
        "                                                      random_state=RANDOM_STATE,\n",
        "                                                      shuffle=True)\n",
        "\n",
        "X_train = X_train.reset_index()\n",
        "X_valid = X_valid.reset_index()\n",
        "y_train = y_train.to_frame()\n",
        "y_train = y_train.reset_index()\n",
        "y_valid = y_valid.to_frame()\n",
        "y_valid = y_valid.reset_index()"
      ],
      "metadata": {
        "id": "M5YW_492w3dx"
      },
      "execution_count": 13,
      "outputs": []
    },
    {
      "cell_type": "code",
      "source": [
        "from gensim import corpora\n",
        "# Function to return the dictionary either with padding word or without padding\n",
        "def make_dict(df, padding=True):\n",
        "    if padding:\n",
        "        print(\"Dictionary with padded token added\")\n",
        "        review_dict = corpora.Dictionary([['pad']])\n",
        "        review_dict.add_documents(df['tokens'])\n",
        "    else:\n",
        "        print(\"Dictionary without padding\")\n",
        "        review_dict = corpora.Dictionary(df['tokens'])\n",
        "    return review_dict\n",
        "\n",
        "# Make the dictionary without padding for the basic models\n",
        "review_dict = make_dict(df, padding=False)"
      ],
      "metadata": {
        "colab": {
          "base_uri": "https://localhost:8080/"
        },
        "id": "WrR8he7LtzZu",
        "outputId": "da318d8c-feaa-4199-ee7c-78b1ba1f0033"
      },
      "execution_count": 14,
      "outputs": [
        {
          "output_type": "stream",
          "name": "stdout",
          "text": [
            "Dictionary without padding\n"
          ]
        }
      ]
    },
    {
      "cell_type": "code",
      "source": [
        "# Function to get the output tensor\n",
        "def make_target(label):\n",
        "    if label == 0:\n",
        "        return torch.tensor([0], dtype=torch.long, device=device)\n",
        "    elif label == 1:\n",
        "        return torch.tensor([1], dtype=torch.long, device=device)\n",
        "    elif label == 2:\n",
        "        return torch.tensor([2], dtype=torch.long, device=device)\n",
        "    elif label == 3:\n",
        "        return torch.tensor([3], dtype=torch.long, device=device)\n",
        "    else:\n",
        "        return torch.tensor([4], dtype=torch.long, device=device)"
      ],
      "metadata": {
        "id": "toKrCiNlwuNa"
      },
      "execution_count": 15,
      "outputs": []
    },
    {
      "cell_type": "code",
      "source": [
        "VOCAB_SIZE = len(review_dict)\n",
        "NUM_LABELS = 5\n",
        "\n",
        "# Function to make bow vector to be used as input to network\n",
        "def make_bow_vector(review_dict, sentence):\n",
        "    vec = torch.zeros(VOCAB_SIZE, dtype=torch.float64, device=device)\n",
        "    for word in sentence:\n",
        "        vec[review_dict.token2id[word]] += 1\n",
        "    return vec.view(1, -1).float()"
      ],
      "metadata": {
        "id": "TcGK5yhlt_Sa"
      },
      "execution_count": 16,
      "outputs": []
    },
    {
      "cell_type": "code",
      "source": [
        "# Defining neural network structure\n",
        "class BoWClassifier(nn.Module):  # inheriting from nn.Module!\n",
        "\n",
        "    def __init__(self, num_labels, vocab_size):\n",
        "        # needs to be done everytime in the nn.module derived class\n",
        "        super(BoWClassifier, self).__init__()\n",
        "\n",
        "        # Define the parameters that are needed for linear model ( Ax + b)\n",
        "        self.linear = nn.Linear(vocab_size, num_labels)\n",
        "\n",
        "        # NOTE! The non-linearity log softmax does not have parameters! So we don't need\n",
        "        # to worry about that here\n",
        "\n",
        "    def forward(self, bow_vec): # Defines the computation performed at every call.\n",
        "        # Pass the input through the linear layer,\n",
        "        # then pass that through log_softmax.\n",
        "\n",
        "        return F.log_softmax(self.linear(bow_vec), dim=1)"
      ],
      "metadata": {
        "id": "7i2ztJnDuCk0"
      },
      "execution_count": 17,
      "outputs": []
    },
    {
      "cell_type": "code",
      "source": [
        "#  Initialize the model\n",
        "bow_nn_model = BoWClassifier(NUM_LABELS, VOCAB_SIZE)\n",
        "bow_nn_model.to(device)\n",
        "\n",
        "# Loss Function\n",
        "loss_function = nn.NLLLoss()\n",
        "# Optimizer initlialization\n",
        "optimizer = optim.SGD(bow_nn_model.parameters(), lr=0.01)"
      ],
      "metadata": {
        "id": "IbgkuBA5uTVG"
      },
      "execution_count": 18,
      "outputs": []
    },
    {
      "cell_type": "code",
      "source": [
        "import time\n",
        "from sklearn.metrics import classification_report\n",
        "\n",
        "def validation_function(bow_nn_model, X_valid, y_valid):\n",
        "  bow_nn_predictions = []\n",
        "  original_labels = []\n",
        "  start_time = time.time()\n",
        "\n",
        "  with torch.no_grad():\n",
        "      for index, row in X_valid.iterrows():\n",
        "          bow_vec = make_bow_vector(review_dict, row['tokens'])\n",
        "          probs = bow_nn_model(bow_vec)\n",
        "          bow_nn_predictions.append(torch.argmax(probs, dim=1).cpu().numpy()[0])\n",
        "          original_labels.append(make_target(y_valid['LABEL'][index]).cpu().numpy()[0])\n",
        "  print(classification_report(original_labels, bow_nn_predictions, target_names=list(CATEGORY_DICT.values())))\n",
        "  print(\"Time taken to predict: \" + str(time.time() - start_time))"
      ],
      "metadata": {
        "id": "ETxNKfg8BM7r"
      },
      "execution_count": 19,
      "outputs": []
    },
    {
      "cell_type": "code",
      "source": [
        "import time\n",
        "start_time = time.time()\n",
        "\n",
        "\n",
        "train_loss_history = []\n",
        "train_acc_history = []\n",
        "valid_loss_history = []\n",
        "valid_acc_history = []\n",
        "valid_precision_history = []\n",
        "valid_recall_history = []\n",
        "valid_f1_history = []\n",
        "\n",
        "# Train the model\n",
        "for epoch in range(NUM_EPOCHS):\n",
        "\n",
        "    for index, row in X_train.iterrows():\n",
        "        # Step 1. Remember that PyTorch accumulates gradients.\n",
        "        # We need to clear them out before each instance\n",
        "        bow_nn_model.zero_grad()\n",
        "\n",
        "        # Step 2. Make BOW vector for input features and target label\n",
        "        bow_vec = make_bow_vector(review_dict, row['tokens'])\n",
        "        target = make_target(y_train['LABEL'][index])\n",
        "\n",
        "        # Step 3. Run the forward pass.\n",
        "        probs = bow_nn_model(bow_vec)\n",
        "\n",
        "        # Step 4. Compute the loss, gradients, and update the parameters by\n",
        "        # calling optimizer.step()\n",
        "        loss = loss_function(probs, target)\n",
        "        loss.backward()\n",
        "        optimizer.step()\n",
        "\n",
        "    # Evaluate after each epoch\n",
        "    validation_function(bow_nn_model, X_valid, y_valid)\n",
        "        \n",
        "\n",
        "print(\"Time taken to train the model: \" + str(time.time() - start_time))"
      ],
      "metadata": {
        "colab": {
          "base_uri": "https://localhost:8080/"
        },
        "id": "ZuZylUAkuXqT",
        "outputId": "bbe992b7-9060-4a99-b518-2f6a6a673d4f"
      },
      "execution_count": 20,
      "outputs": [
        {
          "output_type": "stream",
          "name": "stdout",
          "text": [
            "                                             precision    recall  f1-score   support\n",
            "\n",
            "Energy Storage, Conversion, and Utilization       0.85      0.70      0.77       185\n",
            "                     Environmental Sciences       0.68      0.84      0.75       182\n",
            "           Fission and Nuclear Technologies       0.88      0.82      0.85       191\n",
            "                               Fossil Fuels       0.77      0.79      0.78       174\n",
            "                   Renewable Energy Sources       0.71      0.71      0.71       186\n",
            "\n",
            "                                   accuracy                           0.77       918\n",
            "                                  macro avg       0.78      0.77      0.77       918\n",
            "                               weighted avg       0.78      0.77      0.77       918\n",
            "\n",
            "Time taken to predict: 1.8576514720916748\n",
            "                                             precision    recall  f1-score   support\n",
            "\n",
            "Energy Storage, Conversion, and Utilization       0.89      0.67      0.77       185\n",
            "                     Environmental Sciences       0.75      0.85      0.80       182\n",
            "           Fission and Nuclear Technologies       0.84      0.84      0.84       191\n",
            "                               Fossil Fuels       0.78      0.81      0.80       174\n",
            "                   Renewable Energy Sources       0.69      0.75      0.72       186\n",
            "\n",
            "                                   accuracy                           0.78       918\n",
            "                                  macro avg       0.79      0.78      0.78       918\n",
            "                               weighted avg       0.79      0.78      0.78       918\n",
            "\n",
            "Time taken to predict: 1.9127795696258545\n",
            "                                             precision    recall  f1-score   support\n",
            "\n",
            "Energy Storage, Conversion, and Utilization       0.89      0.71      0.79       185\n",
            "                     Environmental Sciences       0.75      0.86      0.80       182\n",
            "           Fission and Nuclear Technologies       0.88      0.84      0.86       191\n",
            "                               Fossil Fuels       0.78      0.79      0.78       174\n",
            "                   Renewable Energy Sources       0.69      0.76      0.72       186\n",
            "\n",
            "                                   accuracy                           0.79       918\n",
            "                                  macro avg       0.80      0.79      0.79       918\n",
            "                               weighted avg       0.80      0.79      0.79       918\n",
            "\n",
            "Time taken to predict: 1.919201135635376\n",
            "                                             precision    recall  f1-score   support\n",
            "\n",
            "Energy Storage, Conversion, and Utilization       0.88      0.77      0.82       185\n",
            "                     Environmental Sciences       0.78      0.85      0.81       182\n",
            "           Fission and Nuclear Technologies       0.88      0.86      0.87       191\n",
            "                               Fossil Fuels       0.79      0.78      0.78       174\n",
            "                   Renewable Energy Sources       0.70      0.75      0.73       186\n",
            "\n",
            "                                   accuracy                           0.80       918\n",
            "                                  macro avg       0.81      0.80      0.80       918\n",
            "                               weighted avg       0.81      0.80      0.80       918\n",
            "\n",
            "Time taken to predict: 1.89383864402771\n",
            "                                             precision    recall  f1-score   support\n",
            "\n",
            "Energy Storage, Conversion, and Utilization       0.86      0.79      0.82       185\n",
            "                     Environmental Sciences       0.79      0.85      0.82       182\n",
            "           Fission and Nuclear Technologies       0.89      0.87      0.88       191\n",
            "                               Fossil Fuels       0.80      0.78      0.79       174\n",
            "                   Renewable Energy Sources       0.71      0.75      0.73       186\n",
            "\n",
            "                                   accuracy                           0.81       918\n",
            "                                  macro avg       0.81      0.81      0.81       918\n",
            "                               weighted avg       0.81      0.81      0.81       918\n",
            "\n",
            "Time taken to predict: 1.8950221538543701\n",
            "                                             precision    recall  f1-score   support\n",
            "\n",
            "Energy Storage, Conversion, and Utilization       0.86      0.79      0.83       185\n",
            "                     Environmental Sciences       0.81      0.85      0.83       182\n",
            "           Fission and Nuclear Technologies       0.90      0.85      0.87       191\n",
            "                               Fossil Fuels       0.80      0.79      0.79       174\n",
            "                   Renewable Energy Sources       0.70      0.77      0.73       186\n",
            "\n",
            "                                   accuracy                           0.81       918\n",
            "                                  macro avg       0.81      0.81      0.81       918\n",
            "                               weighted avg       0.81      0.81      0.81       918\n",
            "\n",
            "Time taken to predict: 1.8790111541748047\n",
            "                                             precision    recall  f1-score   support\n",
            "\n",
            "Energy Storage, Conversion, and Utilization       0.85      0.79      0.82       185\n",
            "                     Environmental Sciences       0.81      0.85      0.83       182\n",
            "           Fission and Nuclear Technologies       0.90      0.85      0.87       191\n",
            "                               Fossil Fuels       0.80      0.79      0.79       174\n",
            "                   Renewable Energy Sources       0.70      0.76      0.73       186\n",
            "\n",
            "                                   accuracy                           0.81       918\n",
            "                                  macro avg       0.81      0.81      0.81       918\n",
            "                               weighted avg       0.81      0.81      0.81       918\n",
            "\n",
            "Time taken to predict: 1.887242317199707\n",
            "Time taken to train the model: 98.82786965370178\n"
          ]
        }
      ]
    },
    {
      "cell_type": "code",
      "source": [
        "CATEGORY_DICT"
      ],
      "metadata": {
        "id": "JEgHPZk9uYGx",
        "colab": {
          "base_uri": "https://localhost:8080/"
        },
        "outputId": "3d0c8c34-4249-48db-cb33-6b7822edddf9"
      },
      "execution_count": 22,
      "outputs": [
        {
          "output_type": "execute_result",
          "data": {
            "text/plain": [
              "{0: 'Energy Storage, Conversion, and Utilization',\n",
              " 1: 'Environmental Sciences',\n",
              " 2: 'Fission and Nuclear Technologies',\n",
              " 3: 'Fossil Fuels',\n",
              " 4: 'Renewable Energy Sources'}"
            ]
          },
          "metadata": {},
          "execution_count": 22
        }
      ]
    }
  ]
}