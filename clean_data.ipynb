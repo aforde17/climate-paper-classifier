{
 "cells": [
  {
   "attachments": {},
   "cell_type": "markdown",
   "metadata": {},
   "source": [
    "## Cleaning Input data "
   ]
  },
  {
   "cell_type": "code",
   "execution_count": 20,
   "metadata": {},
   "outputs": [],
   "source": [
    "import pandas as pd\n",
    "import json \n",
    "import os\n",
    "import re\n",
    "import nltk\n",
    "from nltk.tokenize import word_tokenize\n",
    "from nltk.corpus import stopwords\n",
    "from torch.utils.data import DataLoader, Dataset\n",
    "from torch import nn, optim\n"
   ]
  },
  {
   "attachments": {},
   "cell_type": "markdown",
   "metadata": {},
   "source": [
    "Loading in the json file with the subjects and corresponding classes from the [OSTI Subject Booklet](https://www.osti.gov/stip.old/system/files/Subject_Categories_Booklet.pdf)"
   ]
  },
  {
   "cell_type": "code",
   "execution_count": 21,
   "metadata": {},
   "outputs": [
    {
     "name": "stdout",
     "output_type": "stream",
     "text": [
      "{'Energy Storage, Conversion, and Utilization': ['25 Energy Storage', '29 Energy Planning, Policy, and Economy', '30 Direct Energy Conversion National Defense', '32 Energy Conservation, Consumption, and Utilization', '33 Advanced Propulsion Systems'], 'Environmental Sciences': ['54 Environmental Sciences'], 'Fossil Fuels': ['01 Coal, Lignite, and Peat', '02 Petroleum', '03 Natural Gas', '04 Oil Shales and Tar Sands'], 'Fission and Nuclear Technologies': ['07 Isotope and Radiation Sources', '11 Nuclear Fuel Cycle and Fuel Materials', '12 Management Of Radioactive Wastes, and Non-Radioactive Wastes from Nuclear Facilities', '21 Specific Nuclear Reactors and Associated Plants', '22 General Studies of Nuclear Reactors'], 'Renewable Energy Sources': ['08 Hydrogen', '09 Biomass Fuels', '10 Synthetic Fuels', '13 Hydro Energy', '02 Petroleum', '14 Solar Energy', '15 Geothermal Energy', '04 Oil Shales and Tar Sands', '16 Tidal and Wave Power', '17 Wind Energy']}\n"
     ]
    }
   ],
   "source": [
    "with open('subjects_and_classes.json') as f:\n",
    "    classes = json.load(f)\n",
    "\n",
    "print(classes)"
   ]
  },
  {
   "attachments": {},
   "cell_type": "markdown",
   "metadata": {},
   "source": [
    "Retrieving the data files downloaded by hand in a specific file format and append the files together."
   ]
  },
  {
   "cell_type": "code",
   "execution_count": 22,
   "metadata": {},
   "outputs": [],
   "source": [
    "def get_all_files(path):\n",
    "    all_files = []\n",
    "    for root, directories, files in os.walk(path):\n",
    "        for filename in files:\n",
    "            file_path = os.path.join(root, filename)\n",
    "            all_files.append(file_path)\n",
    "    return all_files"
   ]
  },
  {
   "cell_type": "code",
   "execution_count": 23,
   "metadata": {},
   "outputs": [],
   "source": [
    "folder_path = '../Data/'\n",
    "all_files = get_all_files(folder_path)"
   ]
  },
  {
   "attachments": {},
   "cell_type": "markdown",
   "metadata": {},
   "source": [
    "Combining the downloaded CSVs into one pandas dataframe and removing any duplicates or extraneous columns"
   ]
  },
  {
   "cell_type": "code",
   "execution_count": 24,
   "metadata": {},
   "outputs": [],
   "source": [
    "def combine_csv(list_of_csvs):\n",
    "    \n",
    "    combined_df = pd.DataFrame()\n",
    "\n",
    "    for csv_file in list_of_csvs:\n",
    "        df = pd.read_csv(csv_file)\n",
    "        combined_df = pd.concat([combined_df, df], ignore_index=True)\n",
    "    \n",
    "    # Remove duplicates\n",
    "    data = combined_df.drop_duplicates(subset=['OSTI_IDENTIFIER'])\n",
    "\n",
    "    # Filter for the columns we want\n",
    "    df = data[['DESCRIPTION', 'SUBJECT']]\n",
    "\n",
    "    # Drop NAN if neither has description or subject\n",
    "    df = df.dropna(subset=['DESCRIPTION', 'SUBJECT'])\n",
    "\n",
    "    return df"
   ]
  },
  {
   "cell_type": "code",
   "execution_count": 25,
   "metadata": {},
   "outputs": [
    {
     "name": "stdout",
     "output_type": "stream",
     "text": [
      "21968\n"
     ]
    }
   ],
   "source": [
    "df = combine_csv(all_files)\n",
    "\n",
    "print(len(df))"
   ]
  },
  {
   "cell_type": "code",
   "execution_count": 26,
   "metadata": {},
   "outputs": [],
   "source": [
    "def get_main_subject(df, sub_dict):\n",
    "    '''\n",
    "    Given a list of subjects, will pull the first (and main)\n",
    "    as the overall subject of the paper\n",
    "\n",
    "    Inputs:\n",
    "        df: Dataframe with subject column\n",
    "    \n",
    "    Returns:\n",
    "        df: \n",
    "    '''\n",
    "\n",
    "    df.SUBJECT = df.SUBJECT.apply(lambda x: x.title().split('; '))\n",
    "    # df.SUBJECT = df.SUBJECT.applymap(lambda x: x.title())\n",
    "    subjects = []\n",
    "    \n",
    "    for values in sub_dict.values():\n",
    "        # append each value to the new list using the extend() method\n",
    "        subjects.extend(values)\n",
    "    \n",
    "    subjects = [s.title() for s in subjects]\n",
    "\n",
    "    df['MAIN_SUBJECT'] = df['SUBJECT'].apply(lambda x: next((s for s in x if any(sub in s for sub in subjects)), None))\n",
    "\n",
    "    # for i, row in df.iterrows():\n",
    "    #     main_subs = []\n",
    "    #     for subject in subjects:\n",
    "    #         if subject in row['SUBJECT']:\n",
    "    #             main_subs.append(subject)\n",
    "        \n",
    "    #     df.at[i, 'MAIN_SUBJECT'] = main_subs\n",
    "\n",
    "    return df"
   ]
  },
  {
   "cell_type": "code",
   "execution_count": 27,
   "metadata": {},
   "outputs": [],
   "source": [
    "df = get_main_subject(df, classes)"
   ]
  },
  {
   "cell_type": "code",
   "execution_count": 28,
   "metadata": {},
   "outputs": [
    {
     "data": {
      "text/html": [
       "<div>\n",
       "<style scoped>\n",
       "    .dataframe tbody tr th:only-of-type {\n",
       "        vertical-align: middle;\n",
       "    }\n",
       "\n",
       "    .dataframe tbody tr th {\n",
       "        vertical-align: top;\n",
       "    }\n",
       "\n",
       "    .dataframe thead th {\n",
       "        text-align: right;\n",
       "    }\n",
       "</style>\n",
       "<table border=\"1\" class=\"dataframe\">\n",
       "  <thead>\n",
       "    <tr style=\"text-align: right;\">\n",
       "      <th></th>\n",
       "      <th>DESCRIPTION</th>\n",
       "      <th>SUBJECT</th>\n",
       "      <th>MAIN_SUBJECT</th>\n",
       "    </tr>\n",
       "  </thead>\n",
       "  <tbody>\n",
       "    <tr>\n",
       "      <th>0</th>\n",
       "      <td>{sup 1}H and {sup 13}C high-resolution liquid-...</td>\n",
       "      <td>[01 Coal, Lignite, And Peat, Hydrogen 1, Carbo...</td>\n",
       "      <td>01 Coal, Lignite, And Peat</td>\n",
       "    </tr>\n",
       "    <tr>\n",
       "      <th>1</th>\n",
       "      <td>The effects of blending polyethylene (PE), pol...</td>\n",
       "      <td>[01 Coal, Lignite, And Peat, Bituminous Coal, ...</td>\n",
       "      <td>01 Coal, Lignite, And Peat</td>\n",
       "    </tr>\n",
       "    <tr>\n",
       "      <th>2</th>\n",
       "      <td>High-temperature {sup 1}H NMR and rheometry me...</td>\n",
       "      <td>[01 Coal, Lignite, And Peat, Coking, Additives...</td>\n",
       "      <td>01 Coal, Lignite, And Peat</td>\n",
       "    </tr>\n",
       "    <tr>\n",
       "      <th>3</th>\n",
       "      <td>Enormous progress has been made in coal pyroly...</td>\n",
       "      <td>[01 Coal, Lignite, And Peat, 66 Physics, Coal ...</td>\n",
       "      <td>01 Coal, Lignite, And Peat</td>\n",
       "    </tr>\n",
       "    <tr>\n",
       "      <th>4</th>\n",
       "      <td>Although high temperature in-situ {sup 1}H NMR...</td>\n",
       "      <td>[01 Coal, Lignite, And Peat, 66 Physics, Coal,...</td>\n",
       "      <td>01 Coal, Lignite, And Peat</td>\n",
       "    </tr>\n",
       "  </tbody>\n",
       "</table>\n",
       "</div>"
      ],
      "text/plain": [
       "                                         DESCRIPTION  \\\n",
       "0  {sup 1}H and {sup 13}C high-resolution liquid-...   \n",
       "1  The effects of blending polyethylene (PE), pol...   \n",
       "2  High-temperature {sup 1}H NMR and rheometry me...   \n",
       "3  Enormous progress has been made in coal pyroly...   \n",
       "4  Although high temperature in-situ {sup 1}H NMR...   \n",
       "\n",
       "                                             SUBJECT  \\\n",
       "0  [01 Coal, Lignite, And Peat, Hydrogen 1, Carbo...   \n",
       "1  [01 Coal, Lignite, And Peat, Bituminous Coal, ...   \n",
       "2  [01 Coal, Lignite, And Peat, Coking, Additives...   \n",
       "3  [01 Coal, Lignite, And Peat, 66 Physics, Coal ...   \n",
       "4  [01 Coal, Lignite, And Peat, 66 Physics, Coal,...   \n",
       "\n",
       "                 MAIN_SUBJECT  \n",
       "0  01 Coal, Lignite, And Peat  \n",
       "1  01 Coal, Lignite, And Peat  \n",
       "2  01 Coal, Lignite, And Peat  \n",
       "3  01 Coal, Lignite, And Peat  \n",
       "4  01 Coal, Lignite, And Peat  "
      ]
     },
     "execution_count": 28,
     "metadata": {},
     "output_type": "execute_result"
    }
   ],
   "source": [
    "df.head()"
   ]
  },
  {
   "attachments": {},
   "cell_type": "markdown",
   "metadata": {},
   "source": [
    "Introducing the Class that we want to identify with our models from the subject and classes json."
   ]
  },
  {
   "cell_type": "code",
   "execution_count": 29,
   "metadata": {},
   "outputs": [],
   "source": [
    "for key, value in classes.items():\n",
    "    for v in value:\n",
    "        mask = df['MAIN_SUBJECT'] == v.title()\n",
    "        df.loc[mask, 'CLASS'] = key"
   ]
  },
  {
   "cell_type": "code",
   "execution_count": 30,
   "metadata": {},
   "outputs": [
    {
     "data": {
      "text/html": [
       "<div>\n",
       "<style scoped>\n",
       "    .dataframe tbody tr th:only-of-type {\n",
       "        vertical-align: middle;\n",
       "    }\n",
       "\n",
       "    .dataframe tbody tr th {\n",
       "        vertical-align: top;\n",
       "    }\n",
       "\n",
       "    .dataframe thead th {\n",
       "        text-align: right;\n",
       "    }\n",
       "</style>\n",
       "<table border=\"1\" class=\"dataframe\">\n",
       "  <thead>\n",
       "    <tr style=\"text-align: right;\">\n",
       "      <th></th>\n",
       "      <th>DESCRIPTION</th>\n",
       "      <th>SUBJECT</th>\n",
       "      <th>MAIN_SUBJECT</th>\n",
       "      <th>CLASS</th>\n",
       "    </tr>\n",
       "  </thead>\n",
       "  <tbody>\n",
       "    <tr>\n",
       "      <th>0</th>\n",
       "      <td>{sup 1}H and {sup 13}C high-resolution liquid-...</td>\n",
       "      <td>[01 Coal, Lignite, And Peat, Hydrogen 1, Carbo...</td>\n",
       "      <td>01 Coal, Lignite, And Peat</td>\n",
       "      <td>Fossil Fuels</td>\n",
       "    </tr>\n",
       "    <tr>\n",
       "      <th>1</th>\n",
       "      <td>The effects of blending polyethylene (PE), pol...</td>\n",
       "      <td>[01 Coal, Lignite, And Peat, Bituminous Coal, ...</td>\n",
       "      <td>01 Coal, Lignite, And Peat</td>\n",
       "      <td>Fossil Fuels</td>\n",
       "    </tr>\n",
       "    <tr>\n",
       "      <th>2</th>\n",
       "      <td>High-temperature {sup 1}H NMR and rheometry me...</td>\n",
       "      <td>[01 Coal, Lignite, And Peat, Coking, Additives...</td>\n",
       "      <td>01 Coal, Lignite, And Peat</td>\n",
       "      <td>Fossil Fuels</td>\n",
       "    </tr>\n",
       "    <tr>\n",
       "      <th>3</th>\n",
       "      <td>Enormous progress has been made in coal pyroly...</td>\n",
       "      <td>[01 Coal, Lignite, And Peat, 66 Physics, Coal ...</td>\n",
       "      <td>01 Coal, Lignite, And Peat</td>\n",
       "      <td>Fossil Fuels</td>\n",
       "    </tr>\n",
       "    <tr>\n",
       "      <th>4</th>\n",
       "      <td>Although high temperature in-situ {sup 1}H NMR...</td>\n",
       "      <td>[01 Coal, Lignite, And Peat, 66 Physics, Coal,...</td>\n",
       "      <td>01 Coal, Lignite, And Peat</td>\n",
       "      <td>Fossil Fuels</td>\n",
       "    </tr>\n",
       "  </tbody>\n",
       "</table>\n",
       "</div>"
      ],
      "text/plain": [
       "                                         DESCRIPTION  \\\n",
       "0  {sup 1}H and {sup 13}C high-resolution liquid-...   \n",
       "1  The effects of blending polyethylene (PE), pol...   \n",
       "2  High-temperature {sup 1}H NMR and rheometry me...   \n",
       "3  Enormous progress has been made in coal pyroly...   \n",
       "4  Although high temperature in-situ {sup 1}H NMR...   \n",
       "\n",
       "                                             SUBJECT  \\\n",
       "0  [01 Coal, Lignite, And Peat, Hydrogen 1, Carbo...   \n",
       "1  [01 Coal, Lignite, And Peat, Bituminous Coal, ...   \n",
       "2  [01 Coal, Lignite, And Peat, Coking, Additives...   \n",
       "3  [01 Coal, Lignite, And Peat, 66 Physics, Coal ...   \n",
       "4  [01 Coal, Lignite, And Peat, 66 Physics, Coal,...   \n",
       "\n",
       "                 MAIN_SUBJECT         CLASS  \n",
       "0  01 Coal, Lignite, And Peat  Fossil Fuels  \n",
       "1  01 Coal, Lignite, And Peat  Fossil Fuels  \n",
       "2  01 Coal, Lignite, And Peat  Fossil Fuels  \n",
       "3  01 Coal, Lignite, And Peat  Fossil Fuels  \n",
       "4  01 Coal, Lignite, And Peat  Fossil Fuels  "
      ]
     },
     "execution_count": 30,
     "metadata": {},
     "output_type": "execute_result"
    }
   ],
   "source": [
    "df.head()"
   ]
  },
  {
   "attachments": {},
   "cell_type": "markdown",
   "metadata": {},
   "source": [
    "One comment we've received is on the fear of imbalanced classes, so the goal of this next block of code is to equitably randomly retrieve data from each class we're looking to match"
   ]
  },
  {
   "cell_type": "code",
   "execution_count": 31,
   "metadata": {},
   "outputs": [],
   "source": [
    "# retrieve the minimum class and values\n",
    "min_obs = df['CLASS'].value_counts().min()\n",
    "\n",
    "# Sample\n",
    "sample_df = df.groupby('CLASS').apply(pd.DataFrame.sample, n=min_obs, random_state=30255).reset_index(drop=True)"
   ]
  },
  {
   "attachments": {},
   "cell_type": "markdown",
   "metadata": {},
   "source": [
    "Using the Transformers package and Bert tokenizer from pre trained"
   ]
  },
  {
   "cell_type": "code",
   "execution_count": 32,
   "metadata": {},
   "outputs": [],
   "source": [
    "from transformers import BertTokenizer\n",
    "\n",
    "tokenizer = BertTokenizer.from_pretrained('bert-base-uncased')"
   ]
  },
  {
   "cell_type": "code",
   "execution_count": 33,
   "metadata": {},
   "outputs": [],
   "source": [
    "def tokenize_text(text):\n",
    "    return tokenizer.encode_plus(text,\n",
    "                                  add_special_tokens=True,\n",
    "                                  max_length=256,\n",
    "                                  padding='max_length',\n",
    "                                  return_attention_mask=True,\n",
    "                                  return_tensors='pt')\n",
    "\n",
    "sample_df['BERT_TOKENIZED'] = sample_df['DESCRIPTION'].apply(tokenize_text)"
   ]
  },
  {
   "attachments": {},
   "cell_type": "markdown",
   "metadata": {},
   "source": [
    "Also will include Spacy preprocessed text. To"
   ]
  },
  {
   "cell_type": "code",
   "execution_count": 34,
   "metadata": {},
   "outputs": [],
   "source": [
    "import spacy\n",
    "\n",
    "nlp = spacy.load('en_core_web_sm')\n",
    "\n",
    "def preprocess_text(text):\n",
    "    doc = nlp(text)\n",
    "    tokens = [token.lemma_.lower() for token in doc if not token.is_stop and not token.is_punct and not token.is_space and not token.like_num]\n",
    "    return \" \".join(tokens)"
   ]
  },
  {
   "cell_type": "code",
   "execution_count": 35,
   "metadata": {},
   "outputs": [],
   "source": [
    "sample_df['SPACY_PREPROCESSED'] = sample_df['DESCRIPTION'].apply(preprocess_text)"
   ]
  },
  {
   "cell_type": "code",
   "execution_count": 36,
   "metadata": {},
   "outputs": [],
   "source": [
    "sample_df.to_csv(\"preprocessed_data.csv\", index=False)"
   ]
  }
 ],
 "metadata": {
  "kernelspec": {
   "display_name": "Python 3",
   "language": "python",
   "name": "python3"
  },
  "language_info": {
   "codemirror_mode": {
    "name": "ipython",
    "version": 3
   },
   "file_extension": ".py",
   "mimetype": "text/x-python",
   "name": "python",
   "nbconvert_exporter": "python",
   "pygments_lexer": "ipython3",
   "version": "3.10.11"
  },
  "orig_nbformat": 4
 },
 "nbformat": 4,
 "nbformat_minor": 2
}
